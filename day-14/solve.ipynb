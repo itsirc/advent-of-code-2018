{
 "cells": [
  {
   "cell_type": "code",
   "execution_count": 1,
   "metadata": {},
   "outputs": [],
   "source": [
    "#!/usr/bin/env python\n",
    "\n",
    "def prepare(num):\n",
    "    idxs = [0, 1]\n",
    "    scores = [3, 7]\n",
    "    while len(scores) < num + 10:\n",
    "        scores += map(int, str(scores[idxs[0]] + scores[idxs[1]]))\n",
    "        for i in range(2):\n",
    "            idxs[i] = (idxs[i] + scores[idxs[i]] + 1) % len(scores)\n",
    "    return scores[num:num+10]"
   ]
  },
  {
   "cell_type": "code",
   "execution_count": 2,
   "metadata": {},
   "outputs": [
    {
     "data": {
      "text/plain": [
       "[5, 9, 4, 1, 4, 2, 9, 8, 8, 2]"
      ]
     },
     "execution_count": 2,
     "metadata": {},
     "output_type": "execute_result"
    }
   ],
   "source": [
    "prepare(2018)"
   ]
  },
  {
   "cell_type": "code",
   "execution_count": 3,
   "metadata": {},
   "outputs": [
    {
     "name": "stdout",
     "output_type": "stream",
     "text": [
      "1191216109\n"
     ]
    }
   ],
   "source": [
    "print(''.join(map(str, prepare(190221))))"
   ]
  },
  {
   "cell_type": "code",
   "execution_count": 4,
   "metadata": {},
   "outputs": [],
   "source": [
    "from collections import deque\n",
    "\n",
    "def reverse_prepare(recipe):\n",
    "    idxs = [0, 1]\n",
    "    scores = [3, 7]\n",
    "    recipe = deque(map(int, str(recipe)))\n",
    "    n = len(recipe)\n",
    "    d = deque(scores, maxlen=n)\n",
    "    while True:\n",
    "        new_scores = map(int, str(scores[idxs[0]] + scores[idxs[1]]))\n",
    "        for s in new_scores:\n",
    "            d.append(s)\n",
    "            scores.append(s)\n",
    "            if d == recipe:\n",
    "                return len(scores) - n\n",
    "        for i in range(2):\n",
    "            idxs[i] = (idxs[i] + scores[idxs[i]] + 1) % len(scores)"
   ]
  },
  {
   "cell_type": "code",
   "execution_count": 5,
   "metadata": {},
   "outputs": [
    {
     "data": {
      "text/plain": [
       "9"
      ]
     },
     "execution_count": 5,
     "metadata": {},
     "output_type": "execute_result"
    }
   ],
   "source": [
    "reverse_prepare(51589)"
   ]
  },
  {
   "cell_type": "code",
   "execution_count": 6,
   "metadata": {},
   "outputs": [
    {
     "data": {
      "text/plain": [
       "2018"
      ]
     },
     "execution_count": 6,
     "metadata": {},
     "output_type": "execute_result"
    }
   ],
   "source": [
    "reverse_prepare(59414)"
   ]
  },
  {
   "cell_type": "code",
   "execution_count": 7,
   "metadata": {},
   "outputs": [
    {
     "data": {
      "text/plain": [
       "20268576"
      ]
     },
     "execution_count": 7,
     "metadata": {},
     "output_type": "execute_result"
    }
   ],
   "source": [
    "reverse_prepare(190221)"
   ]
  }
 ],
 "metadata": {
  "kernelspec": {
   "display_name": "Python 3",
   "language": "python",
   "name": "python3"
  },
  "language_info": {
   "codemirror_mode": {
    "name": "ipython",
    "version": 3
   },
   "file_extension": ".py",
   "mimetype": "text/x-python",
   "name": "python",
   "nbconvert_exporter": "python",
   "pygments_lexer": "ipython3",
   "version": "3.6.3"
  }
 },
 "nbformat": 4,
 "nbformat_minor": 2
}
