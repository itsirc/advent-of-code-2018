{
 "cells": [
  {
   "cell_type": "code",
   "execution_count": 1,
   "metadata": {},
   "outputs": [],
   "source": [
    "#!/usr/bin/env python"
   ]
  },
  {
   "cell_type": "code",
   "execution_count": 2,
   "metadata": {},
   "outputs": [],
   "source": [
    "def print_circle(circle, current):\n",
    "    for i in range(len(circle)):\n",
    "        if i == current:\n",
    "            print(\"(%2d)\" % circle[i], end=\"\")\n",
    "        else:\n",
    "            print(\" %2d \" % circle[i], end=\"\")\n",
    "    print(\"\\n\")\n",
    "\n",
    "def game(players, marbles):\n",
    "    scores = {}\n",
    "    circle = [0]\n",
    "    player = 0\n",
    "    idx = 0\n",
    "    for m in range(1, 1 + marbles):\n",
    "        player = 1 + (player % players)\n",
    "        if m % 23 == 0:\n",
    "            scores[player] = scores.get(player, 0) + m\n",
    "            t = (idx - 7) % len(circle)\n",
    "            scores[player] += circle[t]\n",
    "            del circle[t]\n",
    "            idx = t % len(circle)\n",
    "        else:\n",
    "            if len(circle) == 1 or idx == len(circle) - 2:\n",
    "                circle.append(m)\n",
    "                idx = len(circle) - 1\n",
    "            else:\n",
    "                t = (idx + 2) % len(circle)\n",
    "                circle.insert(t, m)\n",
    "                idx = t\n",
    "    return max(scores.values())"
   ]
  },
  {
   "cell_type": "code",
   "execution_count": 3,
   "metadata": {},
   "outputs": [],
   "source": [
    "from collections import deque\n",
    "\n",
    "def game_2(players, marbles):\n",
    "    scores = {}\n",
    "    circle = deque([0])\n",
    "    player = 0\n",
    "    for m in range(1, 1 + marbles):\n",
    "        player = 1 + (player % players)\n",
    "        if m % 23 == 0:\n",
    "            scores[player] = scores.get(player, 0) + m\n",
    "            for _ in range(7):\n",
    "                circle.appendleft(circle.pop())\n",
    "            scores[player] += circle.pop()\n",
    "            circle.append(circle.popleft())\n",
    "        else:\n",
    "            circle.append(circle.popleft())\n",
    "            circle.append(m)\n",
    "    return max(scores.values())"
   ]
  },
  {
   "cell_type": "code",
   "execution_count": 4,
   "metadata": {},
   "outputs": [
    {
     "name": "stdout",
     "output_type": "stream",
     "text": [
      "32 32\n"
     ]
    }
   ],
   "source": [
    "print(game(9, 25), game_2(9, 25))"
   ]
  },
  {
   "cell_type": "code",
   "execution_count": 5,
   "metadata": {},
   "outputs": [
    {
     "name": "stdout",
     "output_type": "stream",
     "text": [
      "8317 8317\n"
     ]
    }
   ],
   "source": [
    "print(game(10, 1618), game_2(10, 1618))"
   ]
  },
  {
   "cell_type": "code",
   "execution_count": 6,
   "metadata": {},
   "outputs": [
    {
     "data": {
      "text/plain": [
       "37305"
      ]
     },
     "execution_count": 6,
     "metadata": {},
     "output_type": "execute_result"
    }
   ],
   "source": [
    "game(30, 5807)"
   ]
  },
  {
   "cell_type": "code",
   "execution_count": 7,
   "metadata": {},
   "outputs": [
    {
     "data": {
      "text/plain": [
       "424639"
      ]
     },
     "execution_count": 7,
     "metadata": {},
     "output_type": "execute_result"
    }
   ],
   "source": [
    "game(411, 71058)"
   ]
  },
  {
   "cell_type": "code",
   "execution_count": 8,
   "metadata": {},
   "outputs": [
    {
     "data": {
      "text/plain": [
       "424639"
      ]
     },
     "execution_count": 8,
     "metadata": {},
     "output_type": "execute_result"
    }
   ],
   "source": [
    "game_2(411, 71058)"
   ]
  },
  {
   "cell_type": "code",
   "execution_count": 9,
   "metadata": {},
   "outputs": [
    {
     "data": {
      "text/plain": [
       "3516007333"
      ]
     },
     "execution_count": 9,
     "metadata": {},
     "output_type": "execute_result"
    }
   ],
   "source": [
    "game_2(411, 71058 * 100)"
   ]
  }
 ],
 "metadata": {
  "kernelspec": {
   "display_name": "Python 3",
   "language": "python",
   "name": "python3"
  },
  "language_info": {
   "codemirror_mode": {
    "name": "ipython",
    "version": 3
   },
   "file_extension": ".py",
   "mimetype": "text/x-python",
   "name": "python",
   "nbconvert_exporter": "python",
   "pygments_lexer": "ipython3",
   "version": "3.6.3"
  }
 },
 "nbformat": 4,
 "nbformat_minor": 2
}
