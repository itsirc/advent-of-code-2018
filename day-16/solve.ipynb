{
 "cells": [
  {
   "cell_type": "code",
   "execution_count": 1,
   "metadata": {},
   "outputs": [],
   "source": [
    "#!/usr/bin/env python"
   ]
  },
  {
   "cell_type": "code",
   "execution_count": 2,
   "metadata": {},
   "outputs": [],
   "source": [
    "class Sample:\n",
    "    before = None\n",
    "    instruction = None\n",
    "    after = None\n",
    "    def __init__(self, before, instruction, after):\n",
    "        self.before = before\n",
    "        self.instruction = instruction\n",
    "        self.after = after"
   ]
  },
  {
   "cell_type": "code",
   "execution_count": 3,
   "metadata": {},
   "outputs": [],
   "source": [
    "class Operator:\n",
    "    name = \"NOP\"\n",
    "    \n",
    "    @staticmethod\n",
    "    def execute(registers, instruction):\n",
    "        return registers\n",
    "\n",
    "class AddR(Operator):\n",
    "    name = \"ADDR\"\n",
    "    \n",
    "    @staticmethod\n",
    "    def execute(registers, instruction):\n",
    "        new_registers = list(registers)\n",
    "        new_registers[instruction[3]] = registers[instruction[1]] + registers[instruction[2]]\n",
    "        return new_registers\n",
    "\n",
    "class AddI(Operator):\n",
    "    name = \"ADDI\"\n",
    "    \n",
    "    @staticmethod\n",
    "    def execute(registers, instruction):\n",
    "        new_registers = list(registers)\n",
    "        new_registers[instruction[3]] = registers[instruction[1]] + instruction[2]\n",
    "        return new_registers\n",
    "\n",
    "class MulR(Operator):\n",
    "    name = \"MULR\"\n",
    "    \n",
    "    @staticmethod\n",
    "    def execute(registers, instruction):\n",
    "        new_registers = list(registers)\n",
    "        new_registers[instruction[3]] = registers[instruction[1]] * registers[instruction[2]]\n",
    "        return new_registers\n",
    "\n",
    "class MulI(Operator):\n",
    "    name = \"MULI\"\n",
    "    \n",
    "    @staticmethod\n",
    "    def execute(registers, instruction):\n",
    "        new_registers = list(registers)\n",
    "        new_registers[instruction[3]] = registers[instruction[1]] * instruction[2]\n",
    "        return new_registers\n",
    "\n",
    "class BanR(Operator):\n",
    "    name = \"BANR\"\n",
    "    \n",
    "    @staticmethod\n",
    "    def execute(registers, instruction):\n",
    "        new_registers = list(registers)\n",
    "        new_registers[instruction[3]] = registers[instruction[1]] & registers[instruction[2]]\n",
    "        return new_registers\n",
    "\n",
    "class BanI(Operator):\n",
    "    name = \"BANI\"\n",
    "    \n",
    "    @staticmethod\n",
    "    def execute(registers, instruction):\n",
    "        new_registers = list(registers)\n",
    "        new_registers[instruction[3]] = registers[instruction[1]] & instruction[2]\n",
    "        return new_registers\n",
    "\n",
    "class BorR(Operator):\n",
    "    name = \"BORR\"\n",
    "    \n",
    "    @staticmethod\n",
    "    def execute(registers, instruction):\n",
    "        new_registers = list(registers)\n",
    "        new_registers[instruction[3]] = registers[instruction[1]] | registers[instruction[2]]\n",
    "        return new_registers\n",
    "\n",
    "class BorI(Operator):\n",
    "    name = \"BORI\"\n",
    "    \n",
    "    @staticmethod\n",
    "    def execute(registers, instruction):\n",
    "        new_registers = list(registers)\n",
    "        new_registers[instruction[3]] = registers[instruction[1]] | instruction[2]\n",
    "        return new_registers\n",
    "\n",
    "class SetR(Operator):\n",
    "    name = \"SETR\"\n",
    "    \n",
    "    @staticmethod\n",
    "    def execute(registers, instruction):\n",
    "        new_registers = list(registers)\n",
    "        new_registers[instruction[3]] = registers[instruction[1]]\n",
    "        return new_registers\n",
    "\n",
    "class SetI(Operator):\n",
    "    name = \"SETI\"\n",
    "    \n",
    "    @staticmethod\n",
    "    def execute(registers, instruction):\n",
    "        new_registers = list(registers)\n",
    "        new_registers[instruction[3]] = instruction[1]\n",
    "        return new_registers\n",
    "\n",
    "class GtIR(Operator):\n",
    "    name = \"GTIR\"\n",
    "    \n",
    "    @staticmethod\n",
    "    def execute(registers, instruction):\n",
    "        new_registers = list(registers)\n",
    "        new_registers[instruction[3]] = int(instruction[1] > registers[instruction[2]])\n",
    "        return new_registers\n",
    "\n",
    "class GtRI(Operator):\n",
    "    name = \"GTRI\"\n",
    "    \n",
    "    @staticmethod\n",
    "    def execute(registers, instruction):\n",
    "        new_registers = list(registers)\n",
    "        new_registers[instruction[3]] = int(registers[instruction[1]] > instruction[2])\n",
    "        return new_registers\n",
    "\n",
    "class GtRR(Operator):\n",
    "    name = \"GTRR\"\n",
    "    \n",
    "    @staticmethod\n",
    "    def execute(registers, instruction):\n",
    "        new_registers = list(registers)\n",
    "        new_registers[instruction[3]] = int(registers[instruction[1]] > registers[instruction[2]])\n",
    "        return new_registers\n",
    "\n",
    "class EqIR(Operator):\n",
    "    name = \"EQIR\"\n",
    "    \n",
    "    @staticmethod\n",
    "    def execute(registers, instruction):\n",
    "        new_registers = list(registers)\n",
    "        new_registers[instruction[3]] = int(instruction[1] == registers[instruction[2]])\n",
    "        return new_registers\n",
    "\n",
    "class EqRI(Operator):\n",
    "    name = \"EQRI\"\n",
    "    \n",
    "    @staticmethod\n",
    "    def execute(registers, instruction):\n",
    "        new_registers = list(registers)\n",
    "        new_registers[instruction[3]] = int(registers[instruction[1]] == instruction[2])\n",
    "        return new_registers\n",
    "\n",
    "class EqRR(Operator):\n",
    "    name = \"EQRR\"\n",
    "    \n",
    "    @staticmethod\n",
    "    def execute(registers, instruction):\n",
    "        new_registers = list(registers)\n",
    "        new_registers[instruction[3]] = int(registers[instruction[1]] == registers[instruction[2]])\n",
    "        return new_registers"
   ]
  },
  {
   "cell_type": "code",
   "execution_count": 4,
   "metadata": {},
   "outputs": [],
   "source": [
    "OPERATORS = [AddI, AddR, MulI, MulR, BanI, BanR, BorI, BorR, SetI, SetR, GtIR, GtRI, GtRR, EqIR, EqRI, EqRR]"
   ]
  },
  {
   "cell_type": "code",
   "execution_count": 5,
   "metadata": {},
   "outputs": [],
   "source": [
    "def get_input(fname):\n",
    "    samples = []\n",
    "    instructions = []\n",
    "    with open(fname) as f:\n",
    "        lines = [l.strip() for l in f.readlines()]\n",
    "    i = 0\n",
    "    while i < len(lines):\n",
    "        s = lines[i].split(' ')\n",
    "        if s[0] == 'Before:':\n",
    "            before = list(map(int, [s[1].lstrip('[').rstrip(','), s[2].rstrip(','), s[3].rstrip(','), s[4].rstrip(']')]))\n",
    "            registers = list(map(int, lines[i+1].split(' ')))\n",
    "            s = lines[i+2].split(' ')[1:]\n",
    "            after = list(map(int, [s[1].lstrip('[').rstrip(','), s[2].rstrip(','), s[3].rstrip(','), s[4].rstrip(']')]))\n",
    "            sample = Sample(before, registers, after)\n",
    "            samples.append(sample)\n",
    "            i += 4\n",
    "        else:\n",
    "            i += 1\n",
    "            if len(s) == 1:\n",
    "                continue\n",
    "            instructions.append(list(map(int, s)))\n",
    "    return samples, instructions"
   ]
  },
  {
   "cell_type": "code",
   "execution_count": 6,
   "metadata": {},
   "outputs": [],
   "source": [
    "test_samples, test_instructions = get_input(\"test.txt\")"
   ]
  },
  {
   "cell_type": "code",
   "execution_count": 7,
   "metadata": {},
   "outputs": [],
   "source": [
    "def match_operators(sample):\n",
    "    operators = set()\n",
    "    for op in OPERATORS:\n",
    "        after = op.execute(sample.before, sample.instruction)\n",
    "        if after == sample.after:\n",
    "            operators.add(op)\n",
    "    return operators"
   ]
  },
  {
   "cell_type": "code",
   "execution_count": 8,
   "metadata": {},
   "outputs": [
    {
     "name": "stdout",
     "output_type": "stream",
     "text": [
      "1\n"
     ]
    }
   ],
   "source": [
    "print(len([o for o in [match_operators(s) for s in test_samples] if len(o) >= 3]))"
   ]
  },
  {
   "cell_type": "code",
   "execution_count": 9,
   "metadata": {},
   "outputs": [],
   "source": [
    "samples, instructions = get_input(\"input.txt\")"
   ]
  },
  {
   "cell_type": "code",
   "execution_count": 10,
   "metadata": {},
   "outputs": [
    {
     "name": "stdout",
     "output_type": "stream",
     "text": [
      "596\n"
     ]
    }
   ],
   "source": [
    "print(len([o for o in [match_operators(s) for s in samples] if len(o) >= 3]))"
   ]
  },
  {
   "cell_type": "code",
   "execution_count": 11,
   "metadata": {},
   "outputs": [],
   "source": [
    "ops = { i: set(OPERATORS) for i in range(16) }"
   ]
  },
  {
   "cell_type": "code",
   "execution_count": 12,
   "metadata": {},
   "outputs": [],
   "source": [
    "for s in samples:\n",
    "    ops[s.instruction[0]] = ops[s.instruction[0]] & match_operators(s)"
   ]
  },
  {
   "cell_type": "code",
   "execution_count": 13,
   "metadata": {
    "scrolled": false
   },
   "outputs": [],
   "source": [
    "operators = {}\n",
    "while len(operators) < len(OPERATORS):\n",
    "    operation = None\n",
    "    for idx, op in ops.items():\n",
    "        if len(op) == 1:\n",
    "            operation = op.pop()\n",
    "            operators[idx] = operation\n",
    "            del ops[idx]\n",
    "            break\n",
    "    if operation is not None:\n",
    "        for op in ops.values():\n",
    "            op.discard(operation)"
   ]
  },
  {
   "cell_type": "code",
   "execution_count": 14,
   "metadata": {},
   "outputs": [],
   "source": [
    "registers = [0, 0, 0, 0]\n",
    "for instruction in instructions:\n",
    "    registers = operators[instruction[0]].execute(registers, instruction)"
   ]
  },
  {
   "cell_type": "code",
   "execution_count": 15,
   "metadata": {},
   "outputs": [
    {
     "name": "stdout",
     "output_type": "stream",
     "text": [
      "[554, 2, 3, 554]\n"
     ]
    }
   ],
   "source": [
    "print(registers)"
   ]
  }
 ],
 "metadata": {
  "kernelspec": {
   "display_name": "Python 3",
   "language": "python",
   "name": "python3"
  },
  "language_info": {
   "codemirror_mode": {
    "name": "ipython",
    "version": 3
   },
   "file_extension": ".py",
   "mimetype": "text/x-python",
   "name": "python",
   "nbconvert_exporter": "python",
   "pygments_lexer": "ipython3",
   "version": "3.6.3"
  }
 },
 "nbformat": 4,
 "nbformat_minor": 2
}
