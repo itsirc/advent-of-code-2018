{
 "cells": [
  {
   "cell_type": "code",
   "execution_count": 1,
   "metadata": {},
   "outputs": [],
   "source": [
    "#!/usr/bin/env python\n",
    "\n",
    "def get_input(fname):\n",
    "    with open(fname) as f:\n",
    "        return [list(line.strip(\"\\n\")) for line in f.readlines()]"
   ]
  },
  {
   "cell_type": "code",
   "execution_count": 2,
   "metadata": {},
   "outputs": [],
   "source": [
    "def print_tracks(tracks):\n",
    "    print(\"\\n\".join(''.join(line) for line in tracks))"
   ]
  },
  {
   "cell_type": "code",
   "execution_count": 3,
   "metadata": {},
   "outputs": [],
   "source": [
    "test_input = get_input(\"test.txt\")"
   ]
  },
  {
   "cell_type": "code",
   "execution_count": 4,
   "metadata": {},
   "outputs": [
    {
     "name": "stdout",
     "output_type": "stream",
     "text": [
      "/>-<\\  \n",
      "|   |  \n",
      "| /<+-\\\n",
      "| | | v\n",
      "\\>+</ |\n",
      "  |   ^\n",
      "  \\<->/\n"
     ]
    }
   ],
   "source": [
    "print_tracks(test_input)"
   ]
  },
  {
   "cell_type": "code",
   "execution_count": 5,
   "metadata": {},
   "outputs": [],
   "source": [
    "INTERSECTION = '+'\n",
    "CURVE_CLOCKWISE = '/'\n",
    "CURVE_COUNTERCLOCKWISE = '\\\\'\n",
    "HORIZONTAL = '-'\n",
    "VERTICAL = '|'\n",
    "\n",
    "class Cart:\n",
    "    UP = 0\n",
    "    RIGHT = 1\n",
    "    DOWN = 2\n",
    "    LEFT = 3\n",
    "    position = None\n",
    "    direction = -1\n",
    "    decision = 0\n",
    "    id = 0\n",
    "    def __init__(self, id, x, y, direction, decision=0):\n",
    "        self.id = id\n",
    "        self.position = (x, y)\n",
    "        if type(direction) == int:\n",
    "            self.direction = direction\n",
    "        else:\n",
    "            self.direction = '^>v<'.index(direction)\n",
    "        self.decision = decision\n",
    "    def _switch_direction_for_intersection(self):\n",
    "        if self.decision == 0: # left\n",
    "            self.direction = (self.direction - 1) % 4\n",
    "        elif self.decision == 2:\n",
    "            self.direction = (self.direction + 1) % 4\n",
    "        self.decision = (self.decision + 1) % 3\n",
    "    def _switch_direction_for_corner(self, curve):\n",
    "        # clockwise\n",
    "        move_clockwise = False\n",
    "        if curve == CURVE_CLOCKWISE and self.direction in (Cart.UP, Cart.DOWN):\n",
    "            move_clockwise = True\n",
    "        elif curve == CURVE_COUNTERCLOCKWISE and self.direction in (Cart.RIGHT, Cart.LEFT):\n",
    "            move_clockwise = True\n",
    "        if move_clockwise:\n",
    "            self.direction = (self.direction + 1) % 4\n",
    "        else:\n",
    "            self.direction = (self.direction - 1) % 4\n",
    "    def _move_using_current_direction(self):\n",
    "        if self.direction == Cart.RIGHT:\n",
    "            self.position = (self.position[0], self.position[1] + 1)\n",
    "        elif self.direction == Cart.LEFT:\n",
    "            self.position = (self.position[0], self.position[1] - 1)\n",
    "        elif self.direction == Cart.UP:\n",
    "            self.position = (self.position[0] - 1, self.position[1])\n",
    "        else:\n",
    "            self.position = (self.position[0] + 1, self.position[1])\n",
    "    def move(self, tracks):\n",
    "        self._move_using_current_direction()\n",
    "        if tracks[self.position[0]][self.position[1]] == INTERSECTION:\n",
    "            self._switch_direction_for_intersection()\n",
    "        elif tracks[self.position[0]][self.position[1]] in (CURVE_CLOCKWISE, CURVE_COUNTERCLOCKWISE):\n",
    "            self._switch_direction_for_corner(tracks[self.position[0]][self.position[1]])\n",
    "    def str_direction(self):\n",
    "        directions = '^>v<'\n",
    "        return directions[self.direction]\n",
    "    def __repr__(self):\n",
    "        directions = '^>v<'\n",
    "        return \"({}, {}, {})\".format(self.position[0], self.position[1], self.str_direction())\n",
    "    def __str__(self):\n",
    "        return repr(self)"
   ]
  },
  {
   "cell_type": "code",
   "execution_count": 6,
   "metadata": {},
   "outputs": [],
   "source": [
    "def process_tracks(tracks):\n",
    "    carts = []\n",
    "    for i in range(len(tracks)):\n",
    "        for j in range(len(tracks[i])):\n",
    "            if tracks[i][j] in '<>^v':\n",
    "                carts.append(Cart(len(carts), i, j, tracks[i][j]))\n",
    "                if tracks[i][j] in '<>':\n",
    "                    tracks[i][j] = HORIZONTAL\n",
    "                else:\n",
    "                    tracks[i][j] = VERTICAL\n",
    "    return carts, tracks"
   ]
  },
  {
   "cell_type": "code",
   "execution_count": 7,
   "metadata": {},
   "outputs": [],
   "source": [
    "test_carts, test_tracks = process_tracks(get_input(\"test.txt\"))"
   ]
  },
  {
   "cell_type": "code",
   "execution_count": 8,
   "metadata": {},
   "outputs": [
    {
     "name": "stdout",
     "output_type": "stream",
     "text": [
      "[(0, 1, >), (0, 3, <), (2, 3, <), (3, 6, v), (4, 1, >), (4, 3, <), (5, 6, ^), (6, 3, <), (6, 5, >)]\n"
     ]
    }
   ],
   "source": [
    "print(test_carts)"
   ]
  },
  {
   "cell_type": "code",
   "execution_count": 9,
   "metadata": {},
   "outputs": [],
   "source": [
    "def print_grid(carts, tracks):\n",
    "    positions = { cart.position: cart for cart in carts }\n",
    "    for i in range(len(tracks)):\n",
    "        for j in range(len(tracks[i])):\n",
    "            if (i, j) in positions:\n",
    "                print(positions[(i, j)].str_direction(), end='')\n",
    "            else:\n",
    "                print(tracks[i][j], end='')\n",
    "        print()\n",
    "    print()"
   ]
  },
  {
   "cell_type": "code",
   "execution_count": 10,
   "metadata": {},
   "outputs": [],
   "source": [
    "def find_collision(tracks, carts, debug=False):\n",
    "    current_positions = { cart.position: cart for cart in carts }\n",
    "    loops = 0\n",
    "    if debug:\n",
    "        print_grid(carts, tracks)\n",
    "    next_positions = current_positions\n",
    "    while True:\n",
    "        loops += 1\n",
    "        for cart in carts:\n",
    "            new_cart = Cart(cart.id, cart.position[0], cart.position[1], cart.direction, cart.decision)\n",
    "            new_cart.move(tracks)\n",
    "            if new_cart.position in next_positions:\n",
    "                return new_cart.position\n",
    "            else:\n",
    "                del next_positions[cart.position]\n",
    "                next_positions[new_cart.position] = new_cart\n",
    "        carts = list(sorted(next_positions.values(), key=lambda c: c.position))\n",
    "        current_positions = next_positions\n",
    "        if debug:\n",
    "            print_grid(carts, tracks)"
   ]
  },
  {
   "cell_type": "code",
   "execution_count": 11,
   "metadata": {},
   "outputs": [
    {
     "name": "stdout",
     "output_type": "stream",
     "text": [
      "/>-<\\  \n",
      "|   |  \n",
      "| /<+-\\\n",
      "| | | v\n",
      "\\>+</ |\n",
      "  |   ^\n",
      "  \\<->/\n",
      "\n"
     ]
    },
    {
     "data": {
      "text/plain": [
       "(0, 2)"
      ]
     },
     "execution_count": 11,
     "metadata": {},
     "output_type": "execute_result"
    }
   ],
   "source": [
    "find_collision(test_tracks, test_carts, debug=True)"
   ]
  },
  {
   "cell_type": "code",
   "execution_count": 12,
   "metadata": {},
   "outputs": [],
   "source": [
    "carts, tracks = process_tracks(get_input(\"input.txt\"))"
   ]
  },
  {
   "cell_type": "code",
   "execution_count": 13,
   "metadata": {},
   "outputs": [
    {
     "data": {
      "text/plain": [
       "(3, 8)"
      ]
     },
     "execution_count": 13,
     "metadata": {},
     "output_type": "execute_result"
    }
   ],
   "source": [
    "# print_grid(carts, tracks)\n",
    "find_collision(tracks, carts)"
   ]
  },
  {
   "cell_type": "code",
   "execution_count": 14,
   "metadata": {},
   "outputs": [],
   "source": [
    "def find_last_cart(tracks, carts, debug=False):\n",
    "    loops = 0\n",
    "    if debug:\n",
    "        print_grid(carts, tracks)\n",
    "    while True:\n",
    "        next_positions = { cart.position: cart for cart in carts }\n",
    "        carts_to_remove = set()\n",
    "        loops += 1\n",
    "        for cart in carts:\n",
    "            if cart in carts_to_remove:\n",
    "                continue\n",
    "            initial_position = cart.position\n",
    "            cart.move(tracks)\n",
    "            if cart.position in next_positions:\n",
    "                carts_to_remove.add(next_positions[cart.position])\n",
    "                carts_to_remove.add(cart)\n",
    "            else:\n",
    "                next_positions[cart.position] = cart\n",
    "            del next_positions[initial_position]\n",
    "        carts = list(sorted([c for c in next_positions.values() if c not in carts_to_remove], key=lambda c: c.position))\n",
    "        if len(carts) == 1:\n",
    "            return carts[0]\n",
    "        if debug:\n",
    "            print_grid(carts, tracks)"
   ]
  },
  {
   "cell_type": "code",
   "execution_count": 15,
   "metadata": {},
   "outputs": [],
   "source": [
    "test_carts, test_tracks = process_tracks(get_input(\"test.txt\"))"
   ]
  },
  {
   "cell_type": "code",
   "execution_count": 16,
   "metadata": {},
   "outputs": [
    {
     "data": {
      "text/plain": [
       "(4, 6, ^)"
      ]
     },
     "execution_count": 16,
     "metadata": {},
     "output_type": "execute_result"
    }
   ],
   "source": [
    "find_last_cart(test_tracks, list(test_carts))"
   ]
  },
  {
   "cell_type": "code",
   "execution_count": 17,
   "metadata": {},
   "outputs": [],
   "source": [
    "carts, tracks = process_tracks(get_input(\"input.txt\"))"
   ]
  },
  {
   "cell_type": "code",
   "execution_count": 18,
   "metadata": {},
   "outputs": [
    {
     "data": {
      "text/plain": [
       "(121, 73, <)"
      ]
     },
     "execution_count": 18,
     "metadata": {},
     "output_type": "execute_result"
    }
   ],
   "source": [
    "find_last_cart(tracks, list(carts))"
   ]
  }
 ],
 "metadata": {
  "kernelspec": {
   "display_name": "Python 3",
   "language": "python",
   "name": "python3"
  },
  "language_info": {
   "codemirror_mode": {
    "name": "ipython",
    "version": 3
   },
   "file_extension": ".py",
   "mimetype": "text/x-python",
   "name": "python",
   "nbconvert_exporter": "python",
   "pygments_lexer": "ipython3",
   "version": "3.6.3"
  }
 },
 "nbformat": 4,
 "nbformat_minor": 2
}
