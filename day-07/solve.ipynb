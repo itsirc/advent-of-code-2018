{
 "cells": [
  {
   "cell_type": "code",
   "execution_count": 5,
   "metadata": {},
   "outputs": [],
   "source": [
    "#!/usr/bin/env python\n",
    "\n",
    "def get_input(fname):\n",
    "    r = []\n",
    "    with open(fname) as f:\n",
    "        for line in f.readlines():\n",
    "            line = line.strip().split()\n",
    "            r.append((line[1], line[7]))\n",
    "    return r"
   ]
  },
  {
   "cell_type": "code",
   "execution_count": 6,
   "metadata": {},
   "outputs": [
    {
     "name": "stdout",
     "output_type": "stream",
     "text": [
      "[('C', 'A'), ('C', 'F'), ('A', 'B'), ('A', 'D'), ('B', 'E'), ('D', 'E'), ('F', 'E')]\n"
     ]
    }
   ],
   "source": [
    "test_input = get_input(\"test.txt\")\n",
    "print(test_input)"
   ]
  },
  {
   "cell_type": "code",
   "execution_count": 13,
   "metadata": {},
   "outputs": [],
   "source": [
    "from collections import OrderedDict\n",
    "\n",
    "def get_order(rules):\n",
    "    before = OrderedDict()\n",
    "    steps = sorted([r[0] for r in rules] + [r[1] for r in rules])\n",
    "    for step in steps:\n",
    "        before[step] = set()\n",
    "    for b, a in rules:\n",
    "        before[a].add(b)\n",
    "    order = []\n",
    "    while len(before) > 0:\n",
    "        nxt = None\n",
    "        for k in before:\n",
    "            if len(before[k]) == 0:\n",
    "                nxt = k\n",
    "                break\n",
    "        order.append(nxt)\n",
    "        del before[nxt]\n",
    "        for v in before.values():\n",
    "            v.discard(nxt)\n",
    "    return order"
   ]
  },
  {
   "cell_type": "code",
   "execution_count": 14,
   "metadata": {},
   "outputs": [
    {
     "data": {
      "text/plain": [
       "['C', 'A', 'B', 'D', 'F', 'E']"
      ]
     },
     "execution_count": 14,
     "metadata": {},
     "output_type": "execute_result"
    }
   ],
   "source": [
    "get_order(test_input)"
   ]
  },
  {
   "cell_type": "code",
   "execution_count": 16,
   "metadata": {},
   "outputs": [
    {
     "name": "stdout",
     "output_type": "stream",
     "text": [
      "BGJCNLQUYIFMOEZTADKSPVXRHW\n"
     ]
    }
   ],
   "source": [
    "actual_input = get_input(\"input.txt\")\n",
    "print(''.join(get_order(actual_input)))"
   ]
  },
  {
   "cell_type": "code",
   "execution_count": 34,
   "metadata": {},
   "outputs": [],
   "source": [
    "def get_total_seconds(rules, number_of_workers=2, additional_seconds=0):\n",
    "    letters = 'ABCDEFGHIJKLMNOPQRSTUVWXYZ'\n",
    "    step_seconds = dict(zip(letters, range(1, 1 + len(letters))))\n",
    "    total_seconds = 0\n",
    "    before = OrderedDict()\n",
    "    steps = sorted([r[0] for r in rules] + [r[1] for r in rules])\n",
    "    for step in steps:\n",
    "        before[step] = set()\n",
    "    for b, a in rules:\n",
    "        before[a].add(b)\n",
    "    order = []\n",
    "    counters = {}\n",
    "    workers = [None for _ in range(number_of_workers)]\n",
    "    while len(before) > 0:\n",
    "        if not all(workers):\n",
    "            nxts = []\n",
    "            for k in before:\n",
    "                if len(before[k]) == 0 and k not in workers:\n",
    "                    nxts.append(k)\n",
    "            if len(nxts) > 0:\n",
    "                for nxt in nxts:\n",
    "                    for i in range(number_of_workers):\n",
    "                        if workers[i] is None:\n",
    "                            workers[i] = nxt\n",
    "                            counters[nxt] = step_seconds[nxt] + additional_seconds\n",
    "                            break\n",
    "#         print(counters, workers)\n",
    "        for k in list(counters.keys()):\n",
    "            v = counters[k]\n",
    "            v -= 1\n",
    "            if v == 0:\n",
    "                del counters[k]\n",
    "                for i in range(number_of_workers):\n",
    "                    if workers[i] == k:\n",
    "                        workers[i] = None\n",
    "                del before[k]\n",
    "                for v in before.values():\n",
    "                    v.discard(k)\n",
    "            else:\n",
    "                counters[k] -= 1\n",
    "        total_seconds += 1\n",
    "    return total_seconds"
   ]
  },
  {
   "cell_type": "code",
   "execution_count": 35,
   "metadata": {},
   "outputs": [
    {
     "name": "stdout",
     "output_type": "stream",
     "text": [
      "15\n"
     ]
    }
   ],
   "source": [
    "print(get_total_seconds(test_input))"
   ]
  },
  {
   "cell_type": "code",
   "execution_count": 36,
   "metadata": {},
   "outputs": [
    {
     "name": "stdout",
     "output_type": "stream",
     "text": [
      "1017\n"
     ]
    }
   ],
   "source": [
    "print(get_total_seconds(actual_input, number_of_workers=5, additional_seconds=60))"
   ]
  }
 ],
 "metadata": {
  "kernelspec": {
   "display_name": "Python 3",
   "language": "python",
   "name": "python3"
  },
  "language_info": {
   "codemirror_mode": {
    "name": "ipython",
    "version": 3
   },
   "file_extension": ".py",
   "mimetype": "text/x-python",
   "name": "python",
   "nbconvert_exporter": "python",
   "pygments_lexer": "ipython3",
   "version": "3.6.3"
  }
 },
 "nbformat": 4,
 "nbformat_minor": 2
}
