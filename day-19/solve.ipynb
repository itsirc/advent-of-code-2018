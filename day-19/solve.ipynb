{
 "cells": [
  {
   "cell_type": "code",
   "execution_count": 1,
   "metadata": {},
   "outputs": [],
   "source": [
    "#!/usr/bin/env python"
   ]
  },
  {
   "cell_type": "code",
   "execution_count": 2,
   "metadata": {},
   "outputs": [],
   "source": [
    "class Operator:\n",
    "    name = \"NOP\"\n",
    "    \n",
    "    @staticmethod\n",
    "    def execute(registers, instruction):\n",
    "        return registers\n",
    "\n",
    "class AddR(Operator):\n",
    "    name = \"ADDR\"\n",
    "    \n",
    "    @staticmethod\n",
    "    def execute(registers, instruction):\n",
    "        new_registers = list(registers)\n",
    "        new_registers[instruction[3]] = registers[instruction[1]] + registers[instruction[2]]\n",
    "        return new_registers\n",
    "\n",
    "class AddI(Operator):\n",
    "    name = \"ADDI\"\n",
    "    \n",
    "    @staticmethod\n",
    "    def execute(registers, instruction):\n",
    "        new_registers = list(registers)\n",
    "        new_registers[instruction[3]] = registers[instruction[1]] + instruction[2]\n",
    "        return new_registers\n",
    "\n",
    "class MulR(Operator):\n",
    "    name = \"MULR\"\n",
    "    \n",
    "    @staticmethod\n",
    "    def execute(registers, instruction):\n",
    "        new_registers = list(registers)\n",
    "        new_registers[instruction[3]] = registers[instruction[1]] * registers[instruction[2]]\n",
    "        return new_registers\n",
    "\n",
    "class MulI(Operator):\n",
    "    name = \"MULI\"\n",
    "    \n",
    "    @staticmethod\n",
    "    def execute(registers, instruction):\n",
    "        new_registers = list(registers)\n",
    "        new_registers[instruction[3]] = registers[instruction[1]] * instruction[2]\n",
    "        return new_registers\n",
    "\n",
    "class BanR(Operator):\n",
    "    name = \"BANR\"\n",
    "    \n",
    "    @staticmethod\n",
    "    def execute(registers, instruction):\n",
    "        new_registers = list(registers)\n",
    "        new_registers[instruction[3]] = registers[instruction[1]] & registers[instruction[2]]\n",
    "        return new_registers\n",
    "\n",
    "class BanI(Operator):\n",
    "    name = \"BANI\"\n",
    "    \n",
    "    @staticmethod\n",
    "    def execute(registers, instruction):\n",
    "        new_registers = list(registers)\n",
    "        new_registers[instruction[3]] = registers[instruction[1]] & instruction[2]\n",
    "        return new_registers\n",
    "\n",
    "class BorR(Operator):\n",
    "    name = \"BORR\"\n",
    "    \n",
    "    @staticmethod\n",
    "    def execute(registers, instruction):\n",
    "        new_registers = list(registers)\n",
    "        new_registers[instruction[3]] = registers[instruction[1]] | registers[instruction[2]]\n",
    "        return new_registers\n",
    "\n",
    "class BorI(Operator):\n",
    "    name = \"BORI\"\n",
    "    \n",
    "    @staticmethod\n",
    "    def execute(registers, instruction):\n",
    "        new_registers = list(registers)\n",
    "        new_registers[instruction[3]] = registers[instruction[1]] | instruction[2]\n",
    "        return new_registers\n",
    "\n",
    "class SetR(Operator):\n",
    "    name = \"SETR\"\n",
    "    \n",
    "    @staticmethod\n",
    "    def execute(registers, instruction):\n",
    "        new_registers = list(registers)\n",
    "        new_registers[instruction[3]] = registers[instruction[1]]\n",
    "        return new_registers\n",
    "\n",
    "class SetI(Operator):\n",
    "    name = \"SETI\"\n",
    "    \n",
    "    @staticmethod\n",
    "    def execute(registers, instruction):\n",
    "        new_registers = list(registers)\n",
    "        new_registers[instruction[3]] = instruction[1]\n",
    "        return new_registers\n",
    "\n",
    "class GtIR(Operator):\n",
    "    name = \"GTIR\"\n",
    "    \n",
    "    @staticmethod\n",
    "    def execute(registers, instruction):\n",
    "        new_registers = list(registers)\n",
    "        new_registers[instruction[3]] = int(instruction[1] > registers[instruction[2]])\n",
    "        return new_registers\n",
    "\n",
    "class GtRI(Operator):\n",
    "    name = \"GTRI\"\n",
    "    \n",
    "    @staticmethod\n",
    "    def execute(registers, instruction):\n",
    "        new_registers = list(registers)\n",
    "        new_registers[instruction[3]] = int(registers[instruction[1]] > instruction[2])\n",
    "        return new_registers\n",
    "\n",
    "class GtRR(Operator):\n",
    "    name = \"GTRR\"\n",
    "    \n",
    "    @staticmethod\n",
    "    def execute(registers, instruction):\n",
    "        new_registers = list(registers)\n",
    "        new_registers[instruction[3]] = int(registers[instruction[1]] > registers[instruction[2]])\n",
    "        return new_registers\n",
    "\n",
    "class EqIR(Operator):\n",
    "    name = \"EQIR\"\n",
    "    \n",
    "    @staticmethod\n",
    "    def execute(registers, instruction):\n",
    "        new_registers = list(registers)\n",
    "        new_registers[instruction[3]] = int(instruction[1] == registers[instruction[2]])\n",
    "        return new_registers\n",
    "\n",
    "class EqRI(Operator):\n",
    "    name = \"EQRI\"\n",
    "    \n",
    "    @staticmethod\n",
    "    def execute(registers, instruction):\n",
    "        new_registers = list(registers)\n",
    "        new_registers[instruction[3]] = int(registers[instruction[1]] == instruction[2])\n",
    "        return new_registers\n",
    "\n",
    "class EqRR(Operator):\n",
    "    name = \"EQRR\"\n",
    "    \n",
    "    @staticmethod\n",
    "    def execute(registers, instruction):\n",
    "        new_registers = list(registers)\n",
    "        new_registers[instruction[3]] = int(registers[instruction[1]] == registers[instruction[2]])\n",
    "        return new_registers"
   ]
  },
  {
   "cell_type": "code",
   "execution_count": 3,
   "metadata": {},
   "outputs": [],
   "source": [
    "OPERATORS_LIST = [AddI, AddR, MulI, MulR, BanI, BanR, BorI, BorR, SetI, SetR, GtIR, GtRI, GtRR, EqIR, EqRI, EqRR]\n",
    "OPERATORS = { op.name.lower(): op for op in OPERATORS_LIST }"
   ]
  },
  {
   "cell_type": "code",
   "execution_count": 4,
   "metadata": {},
   "outputs": [],
   "source": [
    "def get_input(fname):\n",
    "    instructions = []\n",
    "    with open(fname) as f:\n",
    "        lines = [l.strip() for l in f.readlines()]\n",
    "    for line in lines:\n",
    "        s = line.split(' ')\n",
    "        instructions.append([s[0]] + list(map(int, s[1:])))\n",
    "    return instructions"
   ]
  },
  {
   "cell_type": "code",
   "execution_count": 5,
   "metadata": {},
   "outputs": [],
   "source": [
    "test_input = get_input(\"test.txt\")"
   ]
  },
  {
   "cell_type": "code",
   "execution_count": 6,
   "metadata": {},
   "outputs": [],
   "source": [
    "class Program(object):\n",
    "    instructions = None\n",
    "    ip = 0\n",
    "    ip_register = 0\n",
    "    registers = None\n",
    "    def __init__(self, instructions):\n",
    "        self.ip_register = instructions[0][1]\n",
    "        self.instructions = instructions[1:]\n",
    "        self.registers = [0 for _ in range(6)]\n",
    "    def run(self, debug=False):\n",
    "        while self.ip >= 0 and self.ip < len(self.instructions):\n",
    "            instruction = self.instructions[self.ip]\n",
    "            if debug:\n",
    "                print(\"ip={} {} {}\".format(self.ip, self.registers, instruction), end=\" \")\n",
    "            self.registers[self.ip_register] = self.ip\n",
    "            self.registers = OPERATORS[instruction[0]].execute(self.registers, instruction)\n",
    "            self.ip = self.registers[self.ip_register]\n",
    "            self.ip += 1\n",
    "            if debug:\n",
    "                print(self.registers)"
   ]
  },
  {
   "cell_type": "code",
   "execution_count": 7,
   "metadata": {},
   "outputs": [],
   "source": [
    "test_program = Program(test_input)"
   ]
  },
  {
   "cell_type": "code",
   "execution_count": 8,
   "metadata": {},
   "outputs": [
    {
     "name": "stdout",
     "output_type": "stream",
     "text": [
      "ip=0 [0, 0, 0, 0, 0, 0] ['seti', 5, 0, 1] [0, 5, 0, 0, 0, 0]\n",
      "ip=1 [0, 5, 0, 0, 0, 0] ['seti', 6, 0, 2] [1, 5, 6, 0, 0, 0]\n",
      "ip=2 [1, 5, 6, 0, 0, 0] ['addi', 0, 1, 0] [3, 5, 6, 0, 0, 0]\n",
      "ip=4 [3, 5, 6, 0, 0, 0] ['setr', 1, 0, 0] [5, 5, 6, 0, 0, 0]\n",
      "ip=6 [5, 5, 6, 0, 0, 0] ['seti', 9, 0, 5] [6, 5, 6, 0, 0, 9]\n"
     ]
    }
   ],
   "source": [
    "test_program.run(True)"
   ]
  },
  {
   "cell_type": "code",
   "execution_count": 9,
   "metadata": {},
   "outputs": [
    {
     "data": {
      "text/plain": [
       "[6, 5, 6, 0, 0, 9]"
      ]
     },
     "execution_count": 9,
     "metadata": {},
     "output_type": "execute_result"
    }
   ],
   "source": [
    "test_program.registers"
   ]
  },
  {
   "cell_type": "code",
   "execution_count": 10,
   "metadata": {},
   "outputs": [],
   "source": [
    "actual_input = get_input(\"input.txt\")"
   ]
  },
  {
   "cell_type": "code",
   "execution_count": 11,
   "metadata": {},
   "outputs": [],
   "source": [
    "program = Program(actual_input)"
   ]
  },
  {
   "cell_type": "code",
   "execution_count": 12,
   "metadata": {},
   "outputs": [],
   "source": [
    "program.run()"
   ]
  },
  {
   "cell_type": "code",
   "execution_count": 13,
   "metadata": {},
   "outputs": [
    {
     "data": {
      "text/plain": [
       "[2640, 1033, 1032, 1033, 1, 256]"
      ]
     },
     "execution_count": 13,
     "metadata": {},
     "output_type": "execute_result"
    }
   ],
   "source": [
    "program.registers"
   ]
  },
  {
   "cell_type": "code",
   "execution_count": 14,
   "metadata": {},
   "outputs": [],
   "source": [
    "# ASM to Py\n",
    "import math\n",
    "\n",
    "def program(regs):\n",
    "    regs[2] += 2\n",
    "    regs[2] *= regs[2]\n",
    "    regs[2] *= 19\n",
    "    regs[2] *= 11\n",
    "    regs[4] += 8\n",
    "    regs[4] *= 22\n",
    "    regs[4] += 20\n",
    "    regs[2] += regs[4]\n",
    "    if regs[0] != 0:\n",
    "        if regs[0] >= 10:\n",
    "            return regs\n",
    "        if regs[0] <= 1:\n",
    "            regs[4] = 27\n",
    "        if regs[0] <= 2:\n",
    "            regs[4] *= 28\n",
    "        if regs[0] <= 3:\n",
    "            regs[4] += 29\n",
    "        if regs[0] <= 4:\n",
    "            regs[4] *= 30\n",
    "        if regs[0] <= 5:\n",
    "            regs[4] *= 14\n",
    "        if regs[0] <= 6:\n",
    "            regs[4] *= 32\n",
    "        if regs[0] <= 7:\n",
    "            regs[2] += regs[4]\n",
    "        if regs[0] <= 8:\n",
    "            regs[0] = 0\n",
    "    regs[0] += 1 + regs[2]\n",
    "    for d in range(2, 1 + int(math.sqrt(regs[2]))):\n",
    "        if regs[2] % d == 0:\n",
    "            regs[0] += d\n",
    "            od = regs[2] // d\n",
    "            if od != d:\n",
    "                regs[0] += od\n",
    "    regs[1] = 1 + regs[2]\n",
    "    regs[3] = 1 + regs[2]\n",
    "    regs[4] = 1\n",
    "    return regs"
   ]
  },
  {
   "cell_type": "code",
   "execution_count": 15,
   "metadata": {},
   "outputs": [
    {
     "data": {
      "text/plain": [
       "[27024480, 10551433, 10551432, 10551433, 1]"
      ]
     },
     "execution_count": 15,
     "metadata": {},
     "output_type": "execute_result"
    }
   ],
   "source": [
    "program([1, 0, 0, 0, 0])"
   ]
  }
 ],
 "metadata": {
  "kernelspec": {
   "display_name": "Python 3",
   "language": "python",
   "name": "python3"
  },
  "language_info": {
   "codemirror_mode": {
    "name": "ipython",
    "version": 3
   },
   "file_extension": ".py",
   "mimetype": "text/x-python",
   "name": "python",
   "nbconvert_exporter": "python",
   "pygments_lexer": "ipython3",
   "version": "3.6.3"
  }
 },
 "nbformat": 4,
 "nbformat_minor": 2
}
