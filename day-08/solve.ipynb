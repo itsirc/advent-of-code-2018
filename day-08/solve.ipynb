{
 "cells": [
  {
   "cell_type": "code",
   "execution_count": 1,
   "metadata": {},
   "outputs": [],
   "source": [
    "#!/usr/bin/python\n",
    "\n",
    "def get_input(fname):\n",
    "    output = []\n",
    "    with open(fname) as f:\n",
    "        output = list(map(int, f.readline().strip().split()))\n",
    "    return output"
   ]
  },
  {
   "cell_type": "code",
   "execution_count": 2,
   "metadata": {},
   "outputs": [
    {
     "name": "stdout",
     "output_type": "stream",
     "text": [
      "[2, 3, 0, 3, 10, 11, 12, 1, 1, 0, 1, 99, 2, 1, 1, 2]\n"
     ]
    }
   ],
   "source": [
    "test_input = get_input(\"test.txt\")\n",
    "print(test_input)"
   ]
  },
  {
   "cell_type": "code",
   "execution_count": 3,
   "metadata": {},
   "outputs": [],
   "source": [
    "from collections import deque\n",
    "\n",
    "NODE = 0\n",
    "METADATA = 1\n",
    "\n",
    "class Node(object):\n",
    "    id = 0\n",
    "    parent = None\n",
    "    children = None\n",
    "    metadata = None\n",
    "    def __init__(self, id):\n",
    "        self.id = id\n",
    "        self.children = []\n",
    "        self.metadata = []\n",
    "    def __repr__(self):\n",
    "        return \"Node(id={},metadata=[{}],children=[{}])\".format(self.id, ', '.join(repr(m) for m in self.metadata), ', '.join(repr(child) for child in self.children))\n",
    "\n",
    "def get_node(inp, cnode=0, idx=0):\n",
    "    node = Node(cnode)\n",
    "    children_no, metadata_no = inp[idx], inp[idx+1]\n",
    "    idx += 2\n",
    "    for _ in range(children_no):\n",
    "        cnode += 1\n",
    "        cnode, child, idx = get_node(inp, cnode, idx)\n",
    "        node.children.append(child)\n",
    "    for _ in range(metadata_no):\n",
    "        node.metadata.append(inp[idx])\n",
    "        idx += 1\n",
    "    return cnode, node, idx\n",
    "\n",
    "def get_tree(inp):\n",
    "    _, root, _ = get_node(inp)\n",
    "    return root"
   ]
  },
  {
   "cell_type": "code",
   "execution_count": 4,
   "metadata": {},
   "outputs": [],
   "source": [
    "test_root = get_tree(test_input)"
   ]
  },
  {
   "cell_type": "code",
   "execution_count": 5,
   "metadata": {},
   "outputs": [],
   "source": [
    "actual_input = get_input(\"input.txt\")"
   ]
  },
  {
   "cell_type": "code",
   "execution_count": 6,
   "metadata": {},
   "outputs": [],
   "source": [
    "def sum_of_metadata(node):\n",
    "    s = sum(node.metadata)\n",
    "    for child in node.children:\n",
    "        s += sum_of_metadata(child)\n",
    "    return s"
   ]
  },
  {
   "cell_type": "code",
   "execution_count": 7,
   "metadata": {},
   "outputs": [
    {
     "name": "stdout",
     "output_type": "stream",
     "text": [
      "138\n"
     ]
    }
   ],
   "source": [
    "print(sum_of_metadata(test_root))"
   ]
  },
  {
   "cell_type": "code",
   "execution_count": 8,
   "metadata": {},
   "outputs": [
    {
     "name": "stdout",
     "output_type": "stream",
     "text": [
      "48155\n"
     ]
    }
   ],
   "source": [
    "root = get_tree(actual_input)\n",
    "print(sum_of_metadata(root))"
   ]
  },
  {
   "cell_type": "code",
   "execution_count": 9,
   "metadata": {},
   "outputs": [],
   "source": [
    "values = {}\n",
    "\n",
    "def value(node):\n",
    "    if node.id in values:\n",
    "        return values[node.id]\n",
    "    if len(node.children) == 0:\n",
    "        values[node.id] = sum(node.metadata)\n",
    "        return values[node.id]\n",
    "    s = 0\n",
    "    for idx in node.metadata:\n",
    "        if idx > len(node.children):\n",
    "            continue\n",
    "        s += value(node.children[idx - 1])\n",
    "    values[node.id] = s\n",
    "    return s"
   ]
  },
  {
   "cell_type": "code",
   "execution_count": 10,
   "metadata": {},
   "outputs": [
    {
     "name": "stdout",
     "output_type": "stream",
     "text": [
      "66\n"
     ]
    }
   ],
   "source": [
    "values = {}\n",
    "print(value(test_root))"
   ]
  },
  {
   "cell_type": "code",
   "execution_count": 11,
   "metadata": {},
   "outputs": [
    {
     "name": "stdout",
     "output_type": "stream",
     "text": [
      "40292\n"
     ]
    }
   ],
   "source": [
    "values = {}\n",
    "print(value(root))"
   ]
  }
 ],
 "metadata": {
  "kernelspec": {
   "display_name": "Python 3",
   "language": "python",
   "name": "python3"
  },
  "language_info": {
   "codemirror_mode": {
    "name": "ipython",
    "version": 3
   },
   "file_extension": ".py",
   "mimetype": "text/x-python",
   "name": "python",
   "nbconvert_exporter": "python",
   "pygments_lexer": "ipython3",
   "version": "3.6.3"
  }
 },
 "nbformat": 4,
 "nbformat_minor": 2
}
