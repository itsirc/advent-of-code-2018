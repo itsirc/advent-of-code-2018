{
 "cells": [
  {
   "cell_type": "code",
   "execution_count": 1,
   "metadata": {},
   "outputs": [],
   "source": [
    "#!/usr/bin/env python\n",
    "\n",
    "def get_input(fname):\n",
    "    coordinates = []\n",
    "    with open(fname) as f:\n",
    "        for line in f.readlines():\n",
    "            parts = line.strip().split(\", \")\n",
    "            lft = parts[0].split(\"=\")\n",
    "            rgt = parts[1].split(\"=\")\n",
    "            if lft[0] == \"x\":\n",
    "                coordinates.append(([int(lft[1]), int(lft[1])], list(map(int, rgt[1].split(\"..\")))))\n",
    "            else:\n",
    "                coordinates.append((list(map(int, rgt[1].split(\"..\"))), [int(lft[1]), int(lft[1])]))\n",
    "    return coordinates"
   ]
  },
  {
   "cell_type": "code",
   "execution_count": 2,
   "metadata": {},
   "outputs": [],
   "source": [
    "test_input = get_input(\"test.txt\")"
   ]
  },
  {
   "cell_type": "code",
   "execution_count": 3,
   "metadata": {},
   "outputs": [],
   "source": [
    "class Map(object):\n",
    "    SPRING = \"+\"\n",
    "    CLAY = \"#\"\n",
    "    EMPTY = \".\"\n",
    "    SAND = \"|\"\n",
    "    WATER = \"~\"\n",
    "    grid = None\n",
    "    minx = 0\n",
    "    maxx = 0\n",
    "    miny = 0\n",
    "    maxy = 0\n",
    "    def __init__(self, coordinates):\n",
    "        self.minx = coordinates[0][0][0]\n",
    "        self.miny = coordinates[0][1][0]\n",
    "        for coord in coordinates:\n",
    "            self.minx = min(self.minx, coord[0][0])\n",
    "            self.maxx = max(self.maxx, coord[0][1])\n",
    "            self.miny = min(self.miny, coord[1][0])\n",
    "            self.maxy = max(self.maxy, coord[1][1])\n",
    "        self.minx -= 1\n",
    "        self.maxx += 1\n",
    "        self.grid = [[Map.EMPTY for _ in range(self.maxx - self.minx + 1)] for _ in range(0, self.maxy + 1)]\n",
    "        for coord in coordinates:\n",
    "            # translation\n",
    "            coord[0][0] -= self.minx\n",
    "            coord[0][1] -= self.minx\n",
    "            for i in range(coord[1][0], 1 + coord[1][1]):\n",
    "                for j in range(coord[0][0], 1 + coord[0][1]):\n",
    "                    self.grid[i][j] = Map.CLAY\n",
    "        self.grid[0][500 - self.minx] = Map.SPRING\n",
    "    def flow(self):\n",
    "        path = [(0, 500 - self.minx)]\n",
    "        loops = 0\n",
    "        while len(path) > 0:\n",
    "            loops += 1\n",
    "            head = path[-1]\n",
    "            if head[0] < self.maxy:\n",
    "                # down?\n",
    "                if self.grid[head[0] + 1][head[1]] == Map.EMPTY:\n",
    "                    path.append((head[0] + 1, head[1]))\n",
    "                    self.grid[head[0] + 1][head[1]] = Map.SAND\n",
    "                elif self.grid[head[0] + 1][head[1]] in (Map.CLAY, Map.WATER):\n",
    "                    # fill?\n",
    "                    fill = [False, False]\n",
    "                    lft = head[1]\n",
    "                    rgt = head[1]\n",
    "                    while lft >= 0:\n",
    "                        if self.grid[head[0] + 1][lft - 1] not in (Map.CLAY, Map.WATER):\n",
    "                            break\n",
    "                        elif self.grid[head[0]][lft - 1] in (Map.CLAY, Map.WATER):\n",
    "                            fill[0] = True\n",
    "                            break\n",
    "                        lft -= 1\n",
    "                    while rgt <= self.maxx - self.minx:\n",
    "                        if self.grid[head[0] + 1][rgt + 1] not in (Map.CLAY, Map.WATER):\n",
    "                            break\n",
    "                        elif self.grid[head[0]][rgt + 1] in (Map.CLAY, Map.WATER):\n",
    "                            fill[1] = True\n",
    "                            break\n",
    "                        rgt += 1\n",
    "                    if all(fill):\n",
    "                        for i in range(lft, 1 + rgt):\n",
    "                            self.grid[head[0]][i] = Map.WATER\n",
    "                        path.pop()\n",
    "                        continue\n",
    "                    elif head[1] > 0 and self.grid[head[0]][head[1] - 1] == Map.EMPTY:\n",
    "                        path.append((head[0], head[1] - 1))\n",
    "                        self.grid[head[0]][head[1] - 1] = Map.SAND\n",
    "                    elif head[1] <= self.maxx - self.minx and self.grid[head[0]][head[1] + 1] == Map.EMPTY:\n",
    "                        path.append((head[0], head[1] + 1))\n",
    "                        self.grid[head[0]][head[1] + 1] = Map.SAND\n",
    "                    else:\n",
    "                        path.pop()\n",
    "                else:\n",
    "                    path.pop()\n",
    "            else:\n",
    "                path.pop()\n",
    "    def __str__(self):\n",
    "        return \"\\n\".join(''.join(line) for line in self.grid)\n",
    "    def __repr__(self):\n",
    "        return str(self)"
   ]
  },
  {
   "cell_type": "code",
   "execution_count": 4,
   "metadata": {},
   "outputs": [],
   "source": [
    "test_map = Map(get_input(\"test.txt\"))"
   ]
  },
  {
   "cell_type": "code",
   "execution_count": 5,
   "metadata": {},
   "outputs": [],
   "source": [
    "test_map.flow()"
   ]
  },
  {
   "cell_type": "code",
   "execution_count": 6,
   "metadata": {},
   "outputs": [
    {
     "name": "stdout",
     "output_type": "stream",
     "text": [
      "57\n"
     ]
    }
   ],
   "source": [
    "print(sum(1 for i in range(len(test_map.grid)) for j in range(len(test_map.grid[i])) if test_map.grid[i][j] in (Map.WATER, Map.SAND)) - test_map.miny + 1)"
   ]
  },
  {
   "cell_type": "code",
   "execution_count": 7,
   "metadata": {},
   "outputs": [],
   "source": [
    "actual_map = Map(get_input(\"input.txt\"))"
   ]
  },
  {
   "cell_type": "code",
   "execution_count": 8,
   "metadata": {
    "scrolled": true
   },
   "outputs": [],
   "source": [
    "actual_map.flow()"
   ]
  },
  {
   "cell_type": "code",
   "execution_count": 9,
   "metadata": {},
   "outputs": [
    {
     "name": "stdout",
     "output_type": "stream",
     "text": [
      "39162\n"
     ]
    }
   ],
   "source": [
    "print(sum(1 for i in range(len(actual_map.grid)) for j in range(len(actual_map.grid[i])) if actual_map.grid[i][j] in (Map.WATER, Map.SAND)) - actual_map.miny + 1)"
   ]
  },
  {
   "cell_type": "code",
   "execution_count": 10,
   "metadata": {},
   "outputs": [
    {
     "name": "stdout",
     "output_type": "stream",
     "text": [
      "29\n"
     ]
    }
   ],
   "source": [
    "print(sum(1 for i in range(len(test_map.grid)) for j in range(len(test_map.grid[i])) if test_map.grid[i][j] in (Map.WATER)))"
   ]
  },
  {
   "cell_type": "code",
   "execution_count": 11,
   "metadata": {},
   "outputs": [
    {
     "name": "stdout",
     "output_type": "stream",
     "text": [
      "32047\n"
     ]
    }
   ],
   "source": [
    "print(sum(1 for i in range(len(actual_map.grid)) for j in range(len(actual_map.grid[i])) if actual_map.grid[i][j] in (Map.WATER)))"
   ]
  }
 ],
 "metadata": {
  "kernelspec": {
   "display_name": "Python 3",
   "language": "python",
   "name": "python3"
  },
  "language_info": {
   "codemirror_mode": {
    "name": "ipython",
    "version": 3
   },
   "file_extension": ".py",
   "mimetype": "text/x-python",
   "name": "python",
   "nbconvert_exporter": "python",
   "pygments_lexer": "ipython3",
   "version": "3.6.3"
  }
 },
 "nbformat": 4,
 "nbformat_minor": 2
}
