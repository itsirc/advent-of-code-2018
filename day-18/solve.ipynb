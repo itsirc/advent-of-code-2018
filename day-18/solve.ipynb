{
 "cells": [
  {
   "cell_type": "code",
   "execution_count": 1,
   "metadata": {},
   "outputs": [],
   "source": [
    "#!/usr/bin/env python\n",
    "\n",
    "def get_input(fname):\n",
    "    with open(fname) as f:\n",
    "        return [list(line.strip()) for line in f.readlines()]"
   ]
  },
  {
   "cell_type": "code",
   "execution_count": 2,
   "metadata": {},
   "outputs": [],
   "source": [
    "class Area(object):\n",
    "    OPEN = '.'\n",
    "    TREE = '|'\n",
    "    LUMBERYARD = '#'\n",
    "    grid = None\n",
    "    signature = None\n",
    "    def __init__(self, grid):\n",
    "        self.grid = [list(line) for line in grid]\n",
    "        self.signature = ''.join(''.join(line) for line in self.grid)\n",
    "    def __str__(self):\n",
    "        return '\\n'.join(''.join(line) for line in self.grid)\n",
    "    def __repr__(self):\n",
    "        return str(self)\n",
    "    def _neighbors(self, i, j):\n",
    "        neighbors = {}\n",
    "        if i > 0: # look up\n",
    "            if j > 0:\n",
    "                tile = self.grid[i-1][j-1]\n",
    "                neighbors[tile] = neighbors.get(tile, 0) + 1\n",
    "            tile = self.grid[i-1][j]\n",
    "            neighbors[tile] = neighbors.get(tile, 0) + 1\n",
    "            if j < len(self.grid[i]) - 1:\n",
    "                tile = self.grid[i-1][j+1]\n",
    "                neighbors[tile] = neighbors.get(tile, 0) + 1\n",
    "        if j > 0:\n",
    "            tile = self.grid[i][j-1]\n",
    "            neighbors[tile] = neighbors.get(tile, 0) + 1\n",
    "        if j < len(self.grid[i]) - 1:\n",
    "            tile = self.grid[i][j+1]\n",
    "            neighbors[tile] = neighbors.get(tile, 0) + 1\n",
    "        if i < len(self.grid) - 1: # look down\n",
    "            if j > 0:\n",
    "                tile = self.grid[i+1][j-1]\n",
    "                neighbors[tile] = neighbors.get(tile, 0) + 1\n",
    "            tile = self.grid[i+1][j]\n",
    "            neighbors[tile] = neighbors.get(tile, 0) + 1\n",
    "            if j < len(self.grid[i]) - 1:\n",
    "                tile = self.grid[i+1][j+1]\n",
    "                neighbors[tile] = neighbors.get(tile, 0) + 1\n",
    "        return neighbors\n",
    "    def _next_state(self, i, j):\n",
    "        neighbors = self._neighbors(i, j)\n",
    "        tile = self.grid[i][j]\n",
    "        if tile == Area.OPEN:\n",
    "            if neighbors.get(Area.TREE, 0) >= 3:\n",
    "                return Area.TREE\n",
    "            else:\n",
    "                return tile\n",
    "        elif tile == Area.TREE:\n",
    "            if neighbors.get(Area.LUMBERYARD, 0) >= 3:\n",
    "                return Area.LUMBERYARD\n",
    "            else:\n",
    "                return tile\n",
    "        else: # LUMBERYARD\n",
    "            if neighbors.get(Area.TREE, 0) > 0 and neighbors.get(Area.LUMBERYARD, 0) > 0:\n",
    "                return tile\n",
    "            else:\n",
    "                return Area.OPEN\n",
    "                \n",
    "    def transform(self):\n",
    "        return Area([[self._next_state(i, j) for j in range(len(self.grid[i]))] for i in range(len(self.grid))])\n",
    "    def resource_value(self):\n",
    "        trees = sum(1 for i in range(len(self.grid)) for j in range(len(self.grid[i])) if self.grid[i][j] == Area.TREE)\n",
    "        lumberyards = sum(1 for i in range(len(self.grid)) for j in range(len(self.grid[i])) if self.grid[i][j] == Area.LUMBERYARD)\n",
    "        return trees * lumberyards\n",
    "        "
   ]
  },
  {
   "cell_type": "code",
   "execution_count": 3,
   "metadata": {},
   "outputs": [],
   "source": [
    "test_area = Area(get_input(\"test.txt\"))"
   ]
  },
  {
   "cell_type": "code",
   "execution_count": 4,
   "metadata": {},
   "outputs": [
    {
     "name": "stdout",
     "output_type": "stream",
     "text": [
      "1147\n"
     ]
    }
   ],
   "source": [
    "area = test_area\n",
    "for _ in range(10):\n",
    "    area = area.transform()\n",
    "print(area.resource_value())"
   ]
  },
  {
   "cell_type": "code",
   "execution_count": 5,
   "metadata": {},
   "outputs": [],
   "source": [
    "input_area = Area(get_input(\"input.txt\"))"
   ]
  },
  {
   "cell_type": "code",
   "execution_count": 6,
   "metadata": {},
   "outputs": [
    {
     "name": "stdout",
     "output_type": "stream",
     "text": [
      "737800\n"
     ]
    }
   ],
   "source": [
    "area = input_area\n",
    "for _ in range(10):\n",
    "    area = area.transform()\n",
    "print(area.resource_value())"
   ]
  },
  {
   "cell_type": "code",
   "execution_count": 7,
   "metadata": {},
   "outputs": [],
   "source": [
    "area = input_area\n",
    "signatures = set(area.signature)\n",
    "areas = [area]\n",
    "loops = 1000000000\n",
    "while True:\n",
    "    loops -= 1\n",
    "    area = area.transform()\n",
    "    if area.signature in signatures:\n",
    "        break\n",
    "    else:\n",
    "        signatures.add(area.signature)\n",
    "        areas.append(area)"
   ]
  },
  {
   "cell_type": "code",
   "execution_count": 8,
   "metadata": {},
   "outputs": [],
   "source": [
    "area_sigs = [a.signature for a in areas]\n",
    "looping_areas = areas[area_sigs.index(area.signature):]"
   ]
  },
  {
   "cell_type": "code",
   "execution_count": 9,
   "metadata": {},
   "outputs": [
    {
     "data": {
      "text/plain": [
       "212040"
      ]
     },
     "execution_count": 9,
     "metadata": {},
     "output_type": "execute_result"
    }
   ],
   "source": [
    "looping_areas[loops % len(looping_areas)].resource_value()"
   ]
  }
 ],
 "metadata": {
  "kernelspec": {
   "display_name": "Python 3",
   "language": "python",
   "name": "python3"
  },
  "language_info": {
   "codemirror_mode": {
    "name": "ipython",
    "version": 3
   },
   "file_extension": ".py",
   "mimetype": "text/x-python",
   "name": "python",
   "nbconvert_exporter": "python",
   "pygments_lexer": "ipython3",
   "version": "3.6.3"
  }
 },
 "nbformat": 4,
 "nbformat_minor": 2
}
