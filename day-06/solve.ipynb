{
 "cells": [
  {
   "cell_type": "code",
   "execution_count": 1,
   "metadata": {},
   "outputs": [],
   "source": [
    "#!/usr/bin/env python\n",
    "\n",
    "def get_input(fname):\n",
    "    with open(fname) as f:\n",
    "        return [tuple(map(int, line.strip().split(\", \"))) for line in f.readlines()]"
   ]
  },
  {
   "cell_type": "code",
   "execution_count": 2,
   "metadata": {},
   "outputs": [
    {
     "name": "stdout",
     "output_type": "stream",
     "text": [
      "[(1, 1), (1, 6), (8, 3), (3, 4), (5, 5), (8, 9)]\n"
     ]
    }
   ],
   "source": [
    "test_input = get_input(\"test.txt\")\n",
    "print(test_input)"
   ]
  },
  {
   "cell_type": "code",
   "execution_count": 3,
   "metadata": {},
   "outputs": [],
   "source": [
    "def manhattan_distance(x, y):\n",
    "    return abs(x[0] - y[0]) + abs(x[1] - y[1])"
   ]
  },
  {
   "cell_type": "code",
   "execution_count": 4,
   "metadata": {},
   "outputs": [],
   "source": [
    "import math\n",
    "from collections import deque, Counter\n",
    "\n",
    "def neighbors(p):\n",
    "    n = []\n",
    "    for delta in [(-1, 0), (0, -1), (1, 0), (0, 1)]:\n",
    "        n.append((p[0] + delta[0], p[1] + delta[1]))\n",
    "    return n\n",
    "\n",
    "def get_areas(points):\n",
    "    xmin, xmax = min(p[0] for p in points), max(p[0] for p in points)\n",
    "    ymin, ymax = min(p[1] for p in points), max(p[1] for p in points)\n",
    "    distances = [[(0, None) for _ in range(1 + ymax)] for _ in range(1 + xmax)]\n",
    "    is_valid = lambda p: p[0] >= xmin and p[0] <= xmax and p[1] >= ymin and p[1] <= ymax\n",
    "    q = deque()\n",
    "    for i in range(len(points)):\n",
    "        p = points[i]\n",
    "        distances[p[0]][p[1]] = (0, {i})\n",
    "        for n in neighbors(p):\n",
    "            if is_valid(n):\n",
    "                q.append(n)\n",
    "    print((xmax - xmin + 1) * (ymax - ymin + 1))\n",
    "    while len(q) > 0:\n",
    "        p = q.popleft()\n",
    "        if distances[p[0]][p[1]][1] is not None:\n",
    "            continue\n",
    "        neigh = neighbors(p)\n",
    "        min_dist = math.inf\n",
    "        min_idxs = None\n",
    "        for neighbor in neigh:\n",
    "            if not is_valid(neighbor):\n",
    "                continue\n",
    "            if distances[neighbor[0]][neighbor[1]][1] is None:\n",
    "                q.append(neighbor)\n",
    "            else:\n",
    "                if distances[neighbor[0]][neighbor[1]][0] + 1 < min_dist:\n",
    "                    min_dist = distances[neighbor[0]][neighbor[1]][0] + 1\n",
    "                    min_idxs = set(distances[neighbor[0]][neighbor[1]][1])\n",
    "                elif distances[neighbor[0]][neighbor[1]][0] + 1 == min_dist:\n",
    "                    min_idxs |= distances[neighbor[0]][neighbor[1]][1]\n",
    "        distances[p[0]][p[1]] = (min_dist, min_idxs)\n",
    "    infinites = set()\n",
    "    for i in range(xmin, 1+xmax):\n",
    "        for j in (ymin, ymax):\n",
    "            if len(distances[i][j][1]) == 1:\n",
    "                infinites |= distances[i][j][1]\n",
    "    for j in range(ymin, 1+ymax):\n",
    "        for i in (xmin, xmax):\n",
    "            if len(distances[i][j][1]) == 1:\n",
    "                infinites |= distances[i][j][1]\n",
    "    return [e[1].pop() for l in distances[xmin:1+xmax] for e in l[ymin:1+ymax] if len(e[1]) == 1 and len(e[1] & infinites) == 0]        "
   ]
  },
  {
   "cell_type": "code",
   "execution_count": 5,
   "metadata": {},
   "outputs": [
    {
     "name": "stdout",
     "output_type": "stream",
     "text": [
      "72\n",
      "[(4, 17)]\n"
     ]
    }
   ],
   "source": [
    "areas = get_areas(test_input)\n",
    "counter = Counter(areas)\n",
    "print(counter.most_common(1))"
   ]
  },
  {
   "cell_type": "code",
   "execution_count": 6,
   "metadata": {},
   "outputs": [
    {
     "name": "stdout",
     "output_type": "stream",
     "text": [
      "98571\n",
      "[(12, 4290)]\n"
     ]
    }
   ],
   "source": [
    "actual_input = get_input(\"input.txt\")\n",
    "areas = get_areas(actual_input)\n",
    "counter = Counter(areas)\n",
    "print(counter.most_common(1))"
   ]
  },
  {
   "cell_type": "code",
   "execution_count": 7,
   "metadata": {},
   "outputs": [],
   "source": [
    "def get_region(points, threshold):\n",
    "    xs = sorted([p[0] for p in points])\n",
    "    ys = sorted([p[1] for p in points])\n",
    "    start = (sum(xs) // len(xs), sum(ys) // len(ys))\n",
    "    xmin, xmax = xs[0], xs[-1]\n",
    "    ymin, ymax = ys[0], ys[-1]\n",
    "    is_valid = lambda p: p[0] >= xmin and p[0] <= xmax and p[1] >= ymin and p[1] <= ymax\n",
    "    q = deque()\n",
    "    q.append(start)\n",
    "    region = set()\n",
    "    while len(q) > 0:\n",
    "        c = q.popleft()\n",
    "        if c in region:\n",
    "            continue\n",
    "        distance = sum(manhattan_distance(c, p) for p in points)\n",
    "        if distance < threshold:\n",
    "            region.add(c)\n",
    "            for n in neighbors(c):\n",
    "                if is_valid(n):\n",
    "                    q.append(n)\n",
    "    return region\n",
    "        "
   ]
  },
  {
   "cell_type": "code",
   "execution_count": 8,
   "metadata": {},
   "outputs": [
    {
     "name": "stdout",
     "output_type": "stream",
     "text": [
      "16\n"
     ]
    }
   ],
   "source": [
    "region = get_region(test_input, 32)\n",
    "print(len(region))"
   ]
  },
  {
   "cell_type": "code",
   "execution_count": 9,
   "metadata": {},
   "outputs": [
    {
     "name": "stdout",
     "output_type": "stream",
     "text": [
      "37318\n"
     ]
    }
   ],
   "source": [
    "region = get_region(actual_input, 10000)\n",
    "print(len(region))"
   ]
  }
 ],
 "metadata": {
  "kernelspec": {
   "display_name": "Python 3",
   "language": "python",
   "name": "python3"
  },
  "language_info": {
   "codemirror_mode": {
    "name": "ipython",
    "version": 3
   },
   "file_extension": ".py",
   "mimetype": "text/x-python",
   "name": "python",
   "nbconvert_exporter": "python",
   "pygments_lexer": "ipython3",
   "version": "3.6.3"
  }
 },
 "nbformat": 4,
 "nbformat_minor": 2
}
