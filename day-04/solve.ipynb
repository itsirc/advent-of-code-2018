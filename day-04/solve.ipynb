{
 "cells": [
  {
   "cell_type": "code",
   "execution_count": 1,
   "metadata": {},
   "outputs": [],
   "source": [
    "#!/usr/bin/env python\n",
    "\n",
    "SLEEP = 0\n",
    "AWAKE = 1\n",
    "\n",
    "def get_input(fname):\n",
    "    results = []\n",
    "    with open(fname) as f:\n",
    "        for line in f.readlines():\n",
    "            line = line.strip().split()\n",
    "            day = line[0].lstrip('[')\n",
    "            hour = line[1].rstrip(']')\n",
    "            guard = 0\n",
    "            action = AWAKE\n",
    "            if line[2] == 'Guard':\n",
    "                guard = int(line[3].lstrip('#'))\n",
    "            elif line[2] == 'falls':\n",
    "                action = SLEEP\n",
    "            results.append((day, hour, guard, action))\n",
    "    return results"
   ]
  },
  {
   "cell_type": "code",
   "execution_count": 2,
   "metadata": {},
   "outputs": [
    {
     "name": "stdout",
     "output_type": "stream",
     "text": [
      "[('1518-11-01', '00:00', 10, 1), ('1518-11-01', '00:05', 0, 0), ('1518-11-01', '00:25', 0, 1), ('1518-11-01', '00:30', 0, 0), ('1518-11-01', '00:55', 0, 1), ('1518-11-01', '23:58', 99, 1), ('1518-11-02', '00:40', 0, 0), ('1518-11-02', '00:50', 0, 1), ('1518-11-03', '00:05', 10, 1), ('1518-11-03', '00:24', 0, 0), ('1518-11-03', '00:29', 0, 1), ('1518-11-04', '00:02', 99, 1), ('1518-11-04', '00:36', 0, 0), ('1518-11-04', '00:46', 0, 1), ('1518-11-05', '00:03', 99, 1), ('1518-11-05', '00:45', 0, 0), ('1518-11-05', '00:55', 0, 1)]\n"
     ]
    }
   ],
   "source": [
    "test_input = get_input(\"test.txt\")\n",
    "print(test_input)"
   ]
  },
  {
   "cell_type": "code",
   "execution_count": 3,
   "metadata": {},
   "outputs": [],
   "source": [
    "from collections import OrderedDict\n",
    "def get_timetable(input):\n",
    "    timetable = OrderedDict()\n",
    "    days = sorted(set(entry[0] for entry in input))\n",
    "    input.sort(key=lambda entry: (entry[0], entry[1]))\n",
    "    current_guard = 0\n",
    "    idx = 0\n",
    "    state = SLEEP\n",
    "    for day in days:\n",
    "        timetable[day] = []\n",
    "        for hr in range(24):\n",
    "            for mn in range(60):\n",
    "                hour = \"{:0>2}:{:0>2}\".format(hr, mn)\n",
    "#                 print(day, hour)\n",
    "                if idx < len(input) and input[idx][0] == day and input[idx][1] == hour:\n",
    "                    if input[idx][2] == 0:\n",
    "                        state = input[idx][3]\n",
    "                    else:\n",
    "                        state = AWAKE\n",
    "                        current_guard = input[idx][2]\n",
    "                    idx += 1\n",
    "                timetable[day].append((current_guard, state))\n",
    "    return timetable"
   ]
  },
  {
   "cell_type": "code",
   "execution_count": 4,
   "metadata": {},
   "outputs": [],
   "source": [
    "def solution_1(timetable):\n",
    "    minutes_asleep = {}\n",
    "    minutes_asleep_by_guard = {}\n",
    "    for entry in timetable.values():\n",
    "        for idx in range(len(entry)):\n",
    "            guard, state = entry[idx]\n",
    "            if guard != 0 and state == SLEEP:\n",
    "                minutes_asleep[guard] = minutes_asleep.get(guard, 0) + 1\n",
    "                if guard not in minutes_asleep_by_guard:\n",
    "                    minutes_asleep_by_guard[guard] = {}\n",
    "                mn = idx % 60\n",
    "                hr = idx // 60\n",
    "                hour = \"{:0>2}:{:0>2}\".format(hr, mn)\n",
    "                minutes_asleep_by_guard[guard][hour] = minutes_asleep_by_guard[guard].get(hour, 0) + 1\n",
    "    guard = sorted(minutes_asleep.items(), key=lambda e: e[1])[-1][0]\n",
    "    hours = {}\n",
    "    return guard, sorted(minutes_asleep_by_guard[guard].items(), key=lambda e: e[1], reverse=True)[0][0]"
   ]
  },
  {
   "cell_type": "code",
   "execution_count": 5,
   "metadata": {},
   "outputs": [
    {
     "name": "stdout",
     "output_type": "stream",
     "text": [
      "240\n"
     ]
    }
   ],
   "source": [
    "test_timetable = get_timetable(test_input)\n",
    "guard, hour = solution_1(test_timetable)\n",
    "print(guard * int(hour.split(':')[1]))"
   ]
  },
  {
   "cell_type": "code",
   "execution_count": 6,
   "metadata": {},
   "outputs": [
    {
     "name": "stdout",
     "output_type": "stream",
     "text": [
      "4716\n"
     ]
    }
   ],
   "source": [
    "timetable = get_timetable(get_input(\"input.txt\"))\n",
    "guard, hour = solution_1(timetable)\n",
    "print(guard * int(hour.split(':')[1]))"
   ]
  },
  {
   "cell_type": "code",
   "execution_count": 7,
   "metadata": {},
   "outputs": [],
   "source": [
    "def solution_2(timetable):\n",
    "    minutes_asleep = {}\n",
    "    minutes_asleep_by_guard = {}\n",
    "    for entry in timetable.values():\n",
    "        for idx in range(len(entry)):\n",
    "            guard, state = entry[idx]\n",
    "            if guard != 0 and state == SLEEP:\n",
    "                minutes_asleep[guard] = minutes_asleep.get(guard, 0) + 1\n",
    "                if guard not in minutes_asleep_by_guard:\n",
    "                    minutes_asleep_by_guard[guard] = {}\n",
    "                mn = idx % 60\n",
    "                hr = idx // 60\n",
    "                hour = \"{:0>2}:{:0>2}\".format(hr, mn)\n",
    "                minutes_asleep_by_guard[guard][hour] = minutes_asleep_by_guard[guard].get(hour, 0) + 1\n",
    "    most_slept_minute = {}\n",
    "    for guard, entry in minutes_asleep_by_guard.items():\n",
    "        most_slept_minute[guard] = sorted(entry.items(), key=lambda e: e[1], reverse=True)[0]\n",
    "    guard = sorted(most_slept_minute.items(), key=lambda e: e[1][1], reverse=True)[0][0]\n",
    "    return guard, most_slept_minute[guard][0]"
   ]
  },
  {
   "cell_type": "code",
   "execution_count": 8,
   "metadata": {},
   "outputs": [
    {
     "name": "stdout",
     "output_type": "stream",
     "text": [
      "99 00:45\n",
      "4455\n"
     ]
    }
   ],
   "source": [
    "guard, hour = solution_2(test_timetable)\n",
    "print(guard, hour)\n",
    "print(guard * int(hour.split(':')[1]))"
   ]
  },
  {
   "cell_type": "code",
   "execution_count": 9,
   "metadata": {},
   "outputs": [
    {
     "name": "stdout",
     "output_type": "stream",
     "text": [
      "117061\n"
     ]
    }
   ],
   "source": [
    "guard, hour = solution_2(timetable)\n",
    "print(guard * int(hour.split(':')[1]))"
   ]
  }
 ],
 "metadata": {
  "kernelspec": {
   "display_name": "Python 3",
   "language": "python",
   "name": "python3"
  },
  "language_info": {
   "codemirror_mode": {
    "name": "ipython",
    "version": 3
   },
   "file_extension": ".py",
   "mimetype": "text/x-python",
   "name": "python",
   "nbconvert_exporter": "python",
   "pygments_lexer": "ipython3",
   "version": "3.6.3"
  }
 },
 "nbformat": 4,
 "nbformat_minor": 2
}
