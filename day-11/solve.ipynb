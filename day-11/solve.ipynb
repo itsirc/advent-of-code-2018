{
 "cells": [
  {
   "cell_type": "code",
   "execution_count": 1,
   "metadata": {},
   "outputs": [],
   "source": [
    "#!/usr/bin/env python"
   ]
  },
  {
   "cell_type": "code",
   "execution_count": 2,
   "metadata": {},
   "outputs": [],
   "source": [
    "serial_number = 8199"
   ]
  },
  {
   "cell_type": "code",
   "execution_count": 3,
   "metadata": {},
   "outputs": [],
   "source": [
    "def power_level(x, y, serial_number):\n",
    "    p = ((x + 10) * y + serial_number) * (x + 10)\n",
    "    return (p % 1000) // 100 - 5\n",
    "\n",
    "def solution_1(serial_number):\n",
    "    powers = [[power_level(x, y, serial_number) for y in range(301)] for x in range(301)]\n",
    "    max_pow, max_x, max_y = -100, -1, -1\n",
    "    for x in range(1, 299):\n",
    "        for y in range(1, 299):\n",
    "            p = sum(sum(line[y:y+3]) for line in powers[x:x+3])\n",
    "            if p > max_pow:\n",
    "                max_pow = p\n",
    "                max_x = x\n",
    "                max_y = y\n",
    "    return max_x, max_y, max_pow"
   ]
  },
  {
   "cell_type": "code",
   "execution_count": 4,
   "metadata": {},
   "outputs": [
    {
     "data": {
      "text/plain": [
       "(33, 45, 29)"
      ]
     },
     "execution_count": 4,
     "metadata": {},
     "output_type": "execute_result"
    }
   ],
   "source": [
    "solution_1(18)"
   ]
  },
  {
   "cell_type": "code",
   "execution_count": 5,
   "metadata": {},
   "outputs": [
    {
     "data": {
      "text/plain": [
       "(21, 61, 30)"
      ]
     },
     "execution_count": 5,
     "metadata": {},
     "output_type": "execute_result"
    }
   ],
   "source": [
    "solution_1(42)"
   ]
  },
  {
   "cell_type": "code",
   "execution_count": 6,
   "metadata": {},
   "outputs": [
    {
     "data": {
      "text/plain": [
       "(235, 87, 28)"
      ]
     },
     "execution_count": 6,
     "metadata": {},
     "output_type": "execute_result"
    }
   ],
   "source": [
    "solution_1(serial_number)"
   ]
  },
  {
   "cell_type": "code",
   "execution_count": 7,
   "metadata": {},
   "outputs": [],
   "source": [
    "def solution_2(serial_number):\n",
    "    powers = [[power_level(x, y, serial_number) for y in range(301)] for x in range(301)]\n",
    "    line_sums = {}\n",
    "    column_sums = {}\n",
    "    max_sq = 1\n",
    "    max_pow, max_x, max_y = -6, -1, -1\n",
    "    for k in range(1, 301):\n",
    "        line_sums[k] = {}\n",
    "        column_sums[k] = {}\n",
    "        for i in range(1, 300):\n",
    "            line_sums[k][i] = { i: powers[k][i] }\n",
    "            column_sums[k][i] = { i: powers[i][k] }\n",
    "            for j in range(i + 1, 301):\n",
    "                line_sums[k][i][j] = line_sums[k][i][j-1] + powers[k][j]\n",
    "                column_sums[k][i][j] = column_sums[k][i][j-1] + powers[j][k]\n",
    "    max_pow, max_x, max_y, max_sq = -100, -1, -1, 0\n",
    "    square_powers = [[powers[x][y] for y in range(301)] for x in range(301)]\n",
    "    for sq_sz in range(1, 301):\n",
    "        for x in range(1, 300 - sq_sz):\n",
    "            for y in range(1, 300 - sq_sz):\n",
    "                square_powers[x][y] += line_sums[x+sq_sz][y][y+sq_sz] + column_sums[y+sq_sz][x][x+sq_sz-1]\n",
    "                if square_powers[x][y] > max_pow:\n",
    "                    max_pow = square_powers[x][y]\n",
    "                    max_x = x\n",
    "                    max_y = y\n",
    "                    max_sq = 1 + sq_sz\n",
    "    return max_x, max_y, max_sq, max_pow"
   ]
  },
  {
   "cell_type": "code",
   "execution_count": 8,
   "metadata": {},
   "outputs": [
    {
     "data": {
      "text/plain": [
       "(90, 269, 16, 113)"
      ]
     },
     "execution_count": 8,
     "metadata": {},
     "output_type": "execute_result"
    }
   ],
   "source": [
    "solution_2(18)"
   ]
  },
  {
   "cell_type": "code",
   "execution_count": 9,
   "metadata": {},
   "outputs": [
    {
     "data": {
      "text/plain": [
       "(234, 272, 18, 119)"
      ]
     },
     "execution_count": 9,
     "metadata": {},
     "output_type": "execute_result"
    }
   ],
   "source": [
    "solution_2(serial_number)"
   ]
  }
 ],
 "metadata": {
  "kernelspec": {
   "display_name": "Python 3",
   "language": "python",
   "name": "python3"
  },
  "language_info": {
   "codemirror_mode": {
    "name": "ipython",
    "version": 3
   },
   "file_extension": ".py",
   "mimetype": "text/x-python",
   "name": "python",
   "nbconvert_exporter": "python",
   "pygments_lexer": "ipython3",
   "version": "3.6.3"
  }
 },
 "nbformat": 4,
 "nbformat_minor": 2
}
