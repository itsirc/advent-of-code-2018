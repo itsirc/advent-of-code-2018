{
 "cells": [
  {
   "cell_type": "code",
   "execution_count": 1,
   "metadata": {},
   "outputs": [],
   "source": [
    "#!/usr/bin/env python\n",
    "\n",
    "from collections import namedtuple\n",
    "Claim = namedtuple('Claim', ['id', 'left', 'top', 'width', 'height'])"
   ]
  },
  {
   "cell_type": "code",
   "execution_count": 2,
   "metadata": {},
   "outputs": [],
   "source": [
    "def get_input(fname):\n",
    "    claims = []\n",
    "    with open(fname) as f:\n",
    "        for line in f.readlines():\n",
    "            line = line.strip().split()\n",
    "            left, top = map(int, line[2][:-1].split(','))\n",
    "            width, height = map(int, line[3].split('x'))\n",
    "            claims.append(Claim(line[0][1:], left, top, width, height))\n",
    "    return claims"
   ]
  },
  {
   "cell_type": "code",
   "execution_count": 3,
   "metadata": {},
   "outputs": [
    {
     "data": {
      "text/plain": [
       "Claim(id='2', left=3, top=1, width=4, height=4)"
      ]
     },
     "execution_count": 3,
     "metadata": {},
     "output_type": "execute_result"
    }
   ],
   "source": [
    "test_input = get_input(\"test.txt\")\n",
    "test_input[1]"
   ]
  },
  {
   "cell_type": "code",
   "execution_count": 4,
   "metadata": {},
   "outputs": [],
   "source": [
    "inp = get_input(\"input.txt\")"
   ]
  },
  {
   "cell_type": "code",
   "execution_count": null,
   "metadata": {},
   "outputs": [],
   "source": []
  },
  {
   "cell_type": "code",
   "execution_count": 5,
   "metadata": {},
   "outputs": [],
   "source": [
    "def get_cloth(claims):\n",
    "    NONE = '.'\n",
    "    OVERLAP = 'X'\n",
    "    candidates = set()\n",
    "    cloth = [[NONE for i in range(1000)] for j in range(1000)]\n",
    "    for claim in claims:\n",
    "        overlaps = False\n",
    "        for x in range(claim.left, claim.left + claim.width):\n",
    "            for y in range(claim.top, claim.top + claim.height):\n",
    "                if cloth[x][y] == NONE:\n",
    "                    cloth[x][y] = claim.id\n",
    "                else:\n",
    "                    overlaps = True\n",
    "                    candidates.discard(cloth[x][y])\n",
    "                    cloth[x][y] = OVERLAP\n",
    "        if not overlaps:\n",
    "            candidates.add(claim.id)\n",
    "    return candidates, cloth"
   ]
  },
  {
   "cell_type": "code",
   "execution_count": 6,
   "metadata": {},
   "outputs": [],
   "source": [
    "c, cl = get_cloth(test_input)"
   ]
  },
  {
   "cell_type": "code",
   "execution_count": 7,
   "metadata": {},
   "outputs": [
    {
     "name": "stdout",
     "output_type": "stream",
     "text": [
      "..........\n",
      "...1111...\n",
      "...1111...\n",
      ".22XX11...\n",
      ".22XX11...\n",
      ".222233...\n",
      ".222233...\n",
      "..........\n",
      "..........\n",
      "..........\n"
     ]
    }
   ],
   "source": [
    "print(\"\\n\".join(''.join(l[:10]) for l in cl[:10]))"
   ]
  },
  {
   "cell_type": "code",
   "execution_count": 8,
   "metadata": {},
   "outputs": [
    {
     "name": "stdout",
     "output_type": "stream",
     "text": [
      "4\n"
     ]
    }
   ],
   "source": [
    "print(len([1 for line in cl for ch in line if ch == 'X']))"
   ]
  },
  {
   "cell_type": "code",
   "execution_count": 9,
   "metadata": {},
   "outputs": [],
   "source": [
    "c, cl = get_cloth(inp)\n"
   ]
  },
  {
   "cell_type": "code",
   "execution_count": 10,
   "metadata": {},
   "outputs": [
    {
     "name": "stdout",
     "output_type": "stream",
     "text": [
      "110389\n"
     ]
    }
   ],
   "source": [
    "print(len([1 for line in cl for ch in line if ch == 'X']))"
   ]
  },
  {
   "cell_type": "code",
   "execution_count": 11,
   "metadata": {},
   "outputs": [
    {
     "name": "stdout",
     "output_type": "stream",
     "text": [
      "{'552'}\n"
     ]
    }
   ],
   "source": [
    "print(c)"
   ]
  }
 ],
 "metadata": {
  "kernelspec": {
   "display_name": "Python 3",
   "language": "python",
   "name": "python3"
  },
  "language_info": {
   "codemirror_mode": {
    "name": "ipython",
    "version": 3
   },
   "file_extension": ".py",
   "mimetype": "text/x-python",
   "name": "python",
   "nbconvert_exporter": "python",
   "pygments_lexer": "ipython3",
   "version": "3.6.3"
  }
 },
 "nbformat": 4,
 "nbformat_minor": 2
}
