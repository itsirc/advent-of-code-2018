{
 "cells": [
  {
   "cell_type": "code",
   "execution_count": 1,
   "metadata": {},
   "outputs": [],
   "source": [
    "#!/usr/bin/env python\n",
    "\n",
    "def get_input(fname):\n",
    "    with open(fname) as f:\n",
    "        return f.read().strip()"
   ]
  },
  {
   "cell_type": "code",
   "execution_count": 2,
   "metadata": {},
   "outputs": [
    {
     "name": "stdout",
     "output_type": "stream",
     "text": [
      "dabAcCaCBAcCcaDA\n"
     ]
    }
   ],
   "source": [
    "test_input = get_input(\"test.txt\")\n",
    "print(test_input)"
   ]
  },
  {
   "cell_type": "code",
   "execution_count": 15,
   "metadata": {},
   "outputs": [],
   "source": [
    "def reduce_polymer(signature, ignore=''):\n",
    "    stack = []\n",
    "    for c in signature:\n",
    "        if c.lower() == ignore.lower():\n",
    "            continue\n",
    "        elif len(stack) > 0 and {stack[-1], c} == {c.lower(), c.upper()}:\n",
    "            stack.pop()\n",
    "        else:\n",
    "            stack.append(c)\n",
    "    return stack"
   ]
  },
  {
   "cell_type": "code",
   "execution_count": 16,
   "metadata": {},
   "outputs": [
    {
     "name": "stdout",
     "output_type": "stream",
     "text": [
      "dabCBAcaDA\n"
     ]
    }
   ],
   "source": [
    "print(''.join(reduce_polymer(test_input)))"
   ]
  },
  {
   "cell_type": "code",
   "execution_count": 8,
   "metadata": {},
   "outputs": [],
   "source": [
    "actual_input = get_input(\"input.txt\")"
   ]
  },
  {
   "cell_type": "code",
   "execution_count": 11,
   "metadata": {},
   "outputs": [
    {
     "name": "stdout",
     "output_type": "stream",
     "text": [
      "10878\n"
     ]
    }
   ],
   "source": [
    "print(len(reduce_polymer(actual_input)))"
   ]
  },
  {
   "cell_type": "code",
   "execution_count": 17,
   "metadata": {},
   "outputs": [
    {
     "name": "stdout",
     "output_type": "stream",
     "text": [
      "4\n"
     ]
    }
   ],
   "source": [
    "min_length = len(test_input)\n",
    "for ignore in set(c.lower() for c in test_input):\n",
    "    l = len(reduce_polymer(test_input, ignore))\n",
    "    min_length = min(l, min_length)\n",
    "print(min_length)"
   ]
  },
  {
   "cell_type": "code",
   "execution_count": 18,
   "metadata": {},
   "outputs": [
    {
     "name": "stdout",
     "output_type": "stream",
     "text": [
      "6874\n"
     ]
    }
   ],
   "source": [
    "min_length = len(actual_input)\n",
    "for ignore in set(c.lower() for c in actual_input):\n",
    "    l = len(reduce_polymer(actual_input, ignore))\n",
    "    min_length = min(l, min_length)\n",
    "print(min_length)"
   ]
  }
 ],
 "metadata": {
  "kernelspec": {
   "display_name": "Python 3",
   "language": "python",
   "name": "python3"
  },
  "language_info": {
   "codemirror_mode": {
    "name": "ipython",
    "version": 3
   },
   "file_extension": ".py",
   "mimetype": "text/x-python",
   "name": "python",
   "nbconvert_exporter": "python",
   "pygments_lexer": "ipython3",
   "version": "3.6.3"
  }
 },
 "nbformat": 4,
 "nbformat_minor": 2
}
