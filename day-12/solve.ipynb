{
 "cells": [
  {
   "cell_type": "code",
   "execution_count": 3,
   "metadata": {},
   "outputs": [],
   "source": [
    "#!/usr/bin/env python\n",
    "\n",
    "def get_input(fname):\n",
    "    with open(fname) as f:\n",
    "        lines = f.readlines()\n",
    "        initial_state = lines[0].strip().split()[-1]\n",
    "        rules = {}\n",
    "        for line in lines[2:]:\n",
    "            parts = line.strip().split(\" => \")\n",
    "            rules[parts[0]] = parts[1]\n",
    "    return initial_state, rules"
   ]
  },
  {
   "cell_type": "code",
   "execution_count": 4,
   "metadata": {},
   "outputs": [],
   "source": [
    "test_initial, test_rules = get_input(\"test.txt\")"
   ]
  },
  {
   "cell_type": "code",
   "execution_count": 18,
   "metadata": {},
   "outputs": [],
   "source": [
    "def grow(initial_state, rules, generations=20):\n",
    "    start_idx = 0\n",
    "    current_state = initial_state\n",
    "    for _ in range(generations):\n",
    "        while current_state[:4] != '....':\n",
    "            start_idx -= 1\n",
    "            current_state = '.' + current_state\n",
    "        while current_state[-4:] != '....':\n",
    "            current_state += '.'\n",
    "        next_state = [current_state[0], current_state[1]]\n",
    "        for idx in range(2, len(current_state) - 2):\n",
    "            if current_state[idx-2:idx+3] in rules:\n",
    "                next_state.append(rules[current_state[idx-2:idx+3]])\n",
    "            else:\n",
    "                next_state.append('.')\n",
    "        next_state += [current_state[-2], current_state[-1]]\n",
    "        current_state = ''.join(next_state)\n",
    "    return start_idx, current_state"
   ]
  },
  {
   "cell_type": "code",
   "execution_count": 19,
   "metadata": {},
   "outputs": [
    {
     "name": "stdout",
     "output_type": "stream",
     "text": [
      "325\n"
     ]
    }
   ],
   "source": [
    "start, state = grow(test_initial, test_rules)\n",
    "idxs = [i for i in range(len(state)) if state[i] == '#']\n",
    "print(sum(idxs) + start * len(idxs))"
   ]
  },
  {
   "cell_type": "code",
   "execution_count": 20,
   "metadata": {},
   "outputs": [],
   "source": [
    "initial, rules = get_input(\"input.txt\")"
   ]
  },
  {
   "cell_type": "code",
   "execution_count": 21,
   "metadata": {},
   "outputs": [
    {
     "name": "stdout",
     "output_type": "stream",
     "text": [
      "3793\n"
     ]
    }
   ],
   "source": [
    "start, state = grow(initial, rules)\n",
    "idxs = [i for i in range(len(state)) if state[i] == '#']\n",
    "print(sum(idxs) + start * len(idxs))"
   ]
  },
  {
   "cell_type": "code",
   "execution_count": 35,
   "metadata": {},
   "outputs": [],
   "source": [
    "def grow_large(initial_state, rules, generations=20):\n",
    "    start_idx = 0\n",
    "    current_state = initial_state\n",
    "    found = set(initial_state.strip('.'))\n",
    "    t = 0\n",
    "    for _ in range(generations):\n",
    "        while current_state[:4] != '....':\n",
    "            start_idx -= 1\n",
    "            current_state = '.' + current_state\n",
    "        while current_state[-4:] != '....':\n",
    "            current_state += '.'\n",
    "        next_state = [current_state[0], current_state[1]]\n",
    "        for idx in range(2, len(current_state) - 2):\n",
    "            if current_state[idx-2:idx+3] in rules:\n",
    "                next_state.append(rules[current_state[idx-2:idx+3]])\n",
    "            else:\n",
    "                next_state.append('.')\n",
    "        next_state += [current_state[-2], current_state[-1]]\n",
    "        current_state = ''.join(next_state)\n",
    "        stripped = current_state.strip('.')\n",
    "        if stripped in found:\n",
    "            return start_idx + (generations - _ - 1), current_state\n",
    "        else:\n",
    "            found.add(stripped)\n",
    "    return start_idx, current_state"
   ]
  },
  {
   "cell_type": "code",
   "execution_count": 37,
   "metadata": {},
   "outputs": [
    {
     "name": "stdout",
     "output_type": "stream",
     "text": [
      "19374\n"
     ]
    }
   ],
   "source": [
    "start, state = grow(test_initial, test_rules, generations=1000)\n",
    "idxs = [i for i in range(len(state)) if state[i] == '#']\n",
    "print(sum(idxs) + start * len(idxs))"
   ]
  },
  {
   "cell_type": "code",
   "execution_count": 38,
   "metadata": {},
   "outputs": [
    {
     "name": "stdout",
     "output_type": "stream",
     "text": [
      "19374\n"
     ]
    }
   ],
   "source": [
    "start, state = grow_large(test_initial, test_rules, generations=1000)\n",
    "idxs = [i for i in range(len(state)) if state[i] == '#']\n",
    "print(sum(idxs) + start * len(idxs))"
   ]
  },
  {
   "cell_type": "code",
   "execution_count": 39,
   "metadata": {},
   "outputs": [
    {
     "name": "stdout",
     "output_type": "stream",
     "text": [
      "4300000002414\n"
     ]
    }
   ],
   "source": [
    "start, state = grow_large(initial, rules, generations = 50000000000)\n",
    "idxs = [i for i in range(len(state)) if state[i] == '#']\n",
    "print(sum(idxs) + start * len(idxs))"
   ]
  }
 ],
 "metadata": {
  "kernelspec": {
   "display_name": "Python 3",
   "language": "python",
   "name": "python3"
  },
  "language_info": {
   "codemirror_mode": {
    "name": "ipython",
    "version": 3
   },
   "file_extension": ".py",
   "mimetype": "text/x-python",
   "name": "python",
   "nbconvert_exporter": "python",
   "pygments_lexer": "ipython3",
   "version": "3.6.3"
  }
 },
 "nbformat": 4,
 "nbformat_minor": 2
}
