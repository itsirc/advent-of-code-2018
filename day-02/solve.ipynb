{
 "cells": [
  {
   "cell_type": "code",
   "execution_count": 1,
   "metadata": {},
   "outputs": [],
   "source": [
    "#!/usr/bin/env python\n",
    "\n",
    "def get_input(fname):\n",
    "    with open(fname) as f:\n",
    "        return [l.strip() for l in f.readlines()]"
   ]
  },
  {
   "cell_type": "code",
   "execution_count": 5,
   "metadata": {},
   "outputs": [],
   "source": [
    "from collections import Counter\n",
    "\n",
    "def checksum(ids):\n",
    "    counts = {}\n",
    "    for id in ids:\n",
    "        current_counts = set(Counter(id).values())\n",
    "        for c in current_counts:\n",
    "            counts[c] = counts.get(c, 0) + 1\n",
    "    return counts.get(2, 0) * counts.get(3, 0)"
   ]
  },
  {
   "cell_type": "code",
   "execution_count": 6,
   "metadata": {},
   "outputs": [
    {
     "name": "stdout",
     "output_type": "stream",
     "text": [
      "12\n"
     ]
    }
   ],
   "source": [
    "print(checksum(get_input(\"test.txt\")))"
   ]
  },
  {
   "cell_type": "code",
   "execution_count": 7,
   "metadata": {},
   "outputs": [
    {
     "name": "stdout",
     "output_type": "stream",
     "text": [
      "6888\n"
     ]
    }
   ],
   "source": [
    "print(checksum(get_input(\"input.txt\")))"
   ]
  },
  {
   "cell_type": "code",
   "execution_count": 9,
   "metadata": {},
   "outputs": [],
   "source": [
    "def difference(id1, id2):\n",
    "    return [i for i in range(len(id1)) if id1[i] != id2[i]]"
   ]
  },
  {
   "cell_type": "code",
   "execution_count": 10,
   "metadata": {},
   "outputs": [],
   "source": [
    "def common_letters(ids):\n",
    "    for i in range(len(ids) - 1):\n",
    "        for j in range(1, len(ids)):\n",
    "            diff = difference(ids[i], ids[j])\n",
    "            if len(diff) == 1:\n",
    "                pos = diff[0]\n",
    "                return ids[i][:pos] + ids[i][pos+1:]"
   ]
  },
  {
   "cell_type": "code",
   "execution_count": 11,
   "metadata": {},
   "outputs": [
    {
     "name": "stdout",
     "output_type": "stream",
     "text": [
      "fgij\n"
     ]
    }
   ],
   "source": [
    "print(common_letters(get_input(\"test2.txt\")))"
   ]
  },
  {
   "cell_type": "code",
   "execution_count": 12,
   "metadata": {},
   "outputs": [
    {
     "name": "stdout",
     "output_type": "stream",
     "text": [
      "icxjvbrobtunlelzpdmfkahgs\n"
     ]
    }
   ],
   "source": [
    "print(common_letters(get_input(\"input.txt\")))"
   ]
  }
 ],
 "metadata": {
  "kernelspec": {
   "display_name": "Python 3",
   "language": "python",
   "name": "python3"
  },
  "language_info": {
   "codemirror_mode": {
    "name": "ipython",
    "version": 3
   },
   "file_extension": ".py",
   "mimetype": "text/x-python",
   "name": "python",
   "nbconvert_exporter": "python",
   "pygments_lexer": "ipython3",
   "version": "3.6.3"
  }
 },
 "nbformat": 4,
 "nbformat_minor": 2
}
